{
 "cells": [
  {
   "cell_type": "markdown",
   "id": "ddcbcbd8",
   "metadata": {
    "slideshow": {
     "slide_type": "slide"
    }
   },
   "source": [
    "# STA 141A Fundamentals of Statistical Data Science\n",
    "\n",
    "### Lecture 8, 26/10/23, Plotting with `ggplot2` 2/2"
   ]
  },
  {
   "cell_type": "markdown",
   "id": "97d4a460",
   "metadata": {
    "slideshow": {
     "slide_type": "slide"
    }
   },
   "source": [
    "### Announcements\n",
    "\n",
    "- "
   ]
  },
  {
   "cell_type": "markdown",
   "id": "4bbdcda3",
   "metadata": {
    "slideshow": {
     "slide_type": "slide"
    }
   },
   "source": [
    "### Today's topics\n",
    "\n",
    "- Facets\n",
    "- Coordinate systems\n",
    "- Annotations\n",
    "- Saving\n",
    "- Maps\n"
   ]
  },
  {
   "cell_type": "markdown",
   "id": "fda7f2f0",
   "metadata": {
    "slideshow": {
     "slide_type": "slide"
    }
   },
   "source": [
    "### Facets\n",
    "\n",
    "We have learned to plot several geometrical objects on the same panel by using several `geom_`-functions within the same `ggplot` function. Another way, particularly useful for categorical variables that do noe have many levels, is to split your plot into subplots, *facets*, that each display one subset of the data.\n",
    "`facet_grid` forms a matrix of panels defined by row and column faceting variables. \n",
    "It is most useful when you have two discrete variables, and all combinations of the variables exist in the data. If you have only one variable with many levels, you can use `facet_wrap`."
   ]
  },
  {
   "cell_type": "code",
   "execution_count": null,
   "id": "620be7e7",
   "metadata": {
    "scrolled": true,
    "slideshow": {
     "slide_type": "slide"
    }
   },
   "outputs": [],
   "source": [
    "require(ggplot2)\n",
    "library(repr); options(repr.plot.width = 12, repr.plot.height = 12) # only necessary for jupyter, not R Studio"
   ]
  },
  {
   "cell_type": "code",
   "execution_count": null,
   "id": "5918f197",
   "metadata": {
    "scrolled": false,
    "slideshow": {
     "slide_type": "subslide"
    }
   },
   "outputs": [],
   "source": [
    "ggplot(data = mpg) +\n",
    "    geom_point(mapping = aes(x = displ, y = hwy, color = drv)) +\n",
    "    geom_smooth(mapping = aes(x = displ, y = hwy, color = drv))"
   ]
  },
  {
   "cell_type": "code",
   "execution_count": null,
   "id": "e6aea54a",
   "metadata": {
    "scrolled": false,
    "slideshow": {
     "slide_type": "subslide"
    }
   },
   "outputs": [],
   "source": [
    "options(repr.plot.width = 16) # only necessary for jupyter, not R Studio\n",
    "ggplot(data = mpg) +\n",
    "    geom_point(mapping = aes(x = displ, y = hwy, color = drv)) +\n",
    "    geom_smooth(mapping = aes(x = displ, y = hwy, color = drv)) + \n",
    "    facet_wrap(~ drv)"
   ]
  },
  {
   "cell_type": "markdown",
   "id": "b9842b4e",
   "metadata": {
    "slideshow": {
     "slide_type": "fragment"
    }
   },
   "source": [
    "`facet_grid` creates a matrix of panels, some of which possibly empty."
   ]
  },
  {
   "cell_type": "code",
   "execution_count": null,
   "id": "b8e0eaf8",
   "metadata": {
    "scrolled": true,
    "slideshow": {
     "slide_type": "slide"
    }
   },
   "outputs": [],
   "source": [
    "require(dplyr)\n",
    "mpg %>% head()"
   ]
  },
  {
   "cell_type": "code",
   "execution_count": null,
   "id": "d2c5dd19",
   "metadata": {
    "scrolled": true,
    "slideshow": {
     "slide_type": "subslide"
    }
   },
   "outputs": [],
   "source": [
    "ggplot(data = mpg) +\n",
    "    geom_point(mapping = aes(x = displ, y = hwy)) +\n",
    "    facet_grid(drv ~ class)"
   ]
  },
  {
   "cell_type": "code",
   "execution_count": null,
   "id": "f8b3ce39",
   "metadata": {
    "scrolled": true,
    "slideshow": {
     "slide_type": "subslide"
    }
   },
   "outputs": [],
   "source": [
    "ggplot(data = mpg) +\n",
    "    geom_point(mapping = aes(x = displ, y = hwy)) +\n",
    "    facet_grid(. ~ class)"
   ]
  },
  {
   "cell_type": "code",
   "execution_count": null,
   "id": "3b037cbf",
   "metadata": {
    "scrolled": true,
    "slideshow": {
     "slide_type": "subslide"
    }
   },
   "outputs": [],
   "source": [
    " ggplot(data = mpg) +\n",
    "    geom_point(mapping = aes(x = displ, y = hwy)) +\n",
    "    facet_wrap(~ class, nr = 1)"
   ]
  },
  {
   "cell_type": "markdown",
   "id": "83254d78",
   "metadata": {
    "slideshow": {
     "slide_type": "subslide"
    }
   },
   "source": [
    "`facet_wrap` too can display all possible non-empty combinations of `drv` and `class`: "
   ]
  },
  {
   "cell_type": "code",
   "execution_count": null,
   "id": "04dd3d17",
   "metadata": {
    "scrolled": true,
    "slideshow": {
     "slide_type": "subslide"
    }
   },
   "outputs": [],
   "source": [
    "ggplot(data = mpg) +\n",
    "    geom_point(mapping = aes(x = displ, y = hwy)) +\n",
    "    facet_wrap(drv ~ class, nr = 3)\n",
    "options(repr.plot.width = 6) # only necessary for jupyter, not R Studio"
   ]
  },
  {
   "cell_type": "markdown",
   "id": "9ea38f4a",
   "metadata": {
    "slideshow": {
     "slide_type": "slide"
    }
   },
   "source": [
    "### Coordinate systems \n",
    "\n",
    "We have already seen how to limit the panels width with `xlim` and `ylim` and relative length of the axes using `coord_`."
   ]
  },
  {
   "cell_type": "code",
   "execution_count": null,
   "id": "8b46423c",
   "metadata": {
    "scrolled": true,
    "slideshow": {
     "slide_type": "subslide"
    }
   },
   "outputs": [],
   "source": [
    "g <- ggplot(data = mpg, aes(x = displ, y = hwy)) +\n",
    "    geom_point()\n",
    "g"
   ]
  },
  {
   "cell_type": "code",
   "execution_count": null,
   "id": "9a0a7131",
   "metadata": {
    "scrolled": true,
    "slideshow": {
     "slide_type": "subslide"
    }
   },
   "outputs": [],
   "source": [
    "g + coord_fixed() # the units on both axes are of same length / not useful here"
   ]
  },
  {
   "cell_type": "code",
   "execution_count": null,
   "id": "933d287a",
   "metadata": {
    "scrolled": true,
    "slideshow": {
     "slide_type": "subslide"
    }
   },
   "outputs": [],
   "source": [
    "g + coord_flip() # flip x and y axes"
   ]
  },
  {
   "cell_type": "code",
   "execution_count": null,
   "id": "3ec90535",
   "metadata": {
    "scrolled": true,
    "slideshow": {
     "slide_type": "subslide"
    }
   },
   "outputs": [],
   "source": [
    "g + xlim(0, 10) + ylim(10, 50)"
   ]
  },
  {
   "cell_type": "markdown",
   "id": "dba48fdd",
   "metadata": {
    "slideshow": {
     "slide_type": "subslide"
    }
   },
   "source": [
    "If we reduce the plot so that only a subset of observations is shown, we have to be more careful. "
   ]
  },
  {
   "cell_type": "code",
   "execution_count": null,
   "id": "a0949d3e",
   "metadata": {
    "scrolled": true,
    "slideshow": {
     "slide_type": "subslide"
    }
   },
   "outputs": [],
   "source": [
    "g + xlim(3, 6) + ylim(10, 40) # throws warnings"
   ]
  },
  {
   "cell_type": "code",
   "execution_count": null,
   "id": "24ffa019",
   "metadata": {
    "scrolled": true,
    "slideshow": {
     "slide_type": "subslide"
    }
   },
   "outputs": [],
   "source": [
    "g + coord_cartesian(x = c(3,6), y = c(10, 40)) # does not throw warnings"
   ]
  },
  {
   "cell_type": "code",
   "execution_count": null,
   "id": "cf3a7458",
   "metadata": {
    "scrolled": true,
    "slideshow": {
     "slide_type": "subslide"
    }
   },
   "outputs": [],
   "source": [
    "g + scale_x_continuous(limits = c(3,6)) + \n",
    "    scale_y_continuous(limits = c(10, 40)) # does throw warnings"
   ]
  },
  {
   "cell_type": "markdown",
   "id": "778e7ac8",
   "metadata": {
    "slideshow": {
     "slide_type": "slide"
    }
   },
   "source": [
    "### Annotations\n",
    "\n",
    "Of course, the plot can be adequately annotated in a variety of ways. "
   ]
  },
  {
   "cell_type": "code",
   "execution_count": null,
   "id": "c5206501",
   "metadata": {
    "scrolled": true,
    "slideshow": {
     "slide_type": "subslide"
    }
   },
   "outputs": [],
   "source": [
    "options(repr.plot.width = 16) # only necessary for jupyter, not R Studio\n",
    "g <- ggplot(mpg, aes(displ, hwy)) +\n",
    "    geom_point(aes(color = class), size = 4, alpha = 0.5) +\n",
    "    geom_smooth(se = FALSE, method = 'lm', size = 2) +\n",
    "    labs(title = \"Fuel efficiency generally decreases with engine size\",\n",
    "         subtitle = \"Two seaters (sports cars) are an exception because of their light weight\",\n",
    "         x = \"Engine displacement (in litres)\",\n",
    "         y = \"Highway miles per gallon\",\n",
    "         caption = \"Data from fueleconomy.gov\",\n",
    "         color = \"Car type\")\n",
    "g"
   ]
  },
  {
   "cell_type": "code",
   "execution_count": null,
   "id": "62ad8bfd",
   "metadata": {
    "scrolled": true,
    "slideshow": {
     "slide_type": "subslide"
    }
   },
   "outputs": [],
   "source": [
    "library(\"dplyr\")\n",
    "best_in_class <- mpg %>%\n",
    "    group_by(class) %>%\n",
    "    filter(row_number(desc(hwy)) == 1)\n",
    "best_in_class"
   ]
  },
  {
   "cell_type": "code",
   "execution_count": null,
   "id": "0b175049",
   "metadata": {
    "scrolled": true,
    "slideshow": {
     "slide_type": "subslide"
    }
   },
   "outputs": [],
   "source": [
    "g + geom_text(aes(label = model), data = best_in_class)"
   ]
  },
  {
   "cell_type": "code",
   "execution_count": null,
   "id": "62e6fa61",
   "metadata": {
    "scrolled": true,
    "slideshow": {
     "slide_type": "subslide"
    }
   },
   "outputs": [],
   "source": [
    "library(\"ggrepel\") # install.packages(\"ggrepel\")"
   ]
  },
  {
   "cell_type": "code",
   "execution_count": null,
   "id": "a1fabaa5",
   "metadata": {
    "scrolled": true
   },
   "outputs": [],
   "source": [
    "g + ggrepel::geom_label_repel(aes(label = model), data = best_in_class) + \n",
    "geom_point(data = best_in_class, size = 5, color = 'red')"
   ]
  },
  {
   "cell_type": "markdown",
   "id": "7f3aa37d",
   "metadata": {
    "slideshow": {
     "slide_type": "subslide"
    }
   },
   "source": [
    "The `theme` function governs the background. It should be changed from the default grey background if the analysis is to be printed. "
   ]
  },
  {
   "cell_type": "code",
   "execution_count": null,
   "id": "d8d0bab2",
   "metadata": {
    "scrolled": true
   },
   "outputs": [],
   "source": [
    "g + theme_minimal()"
   ]
  },
  {
   "cell_type": "code",
   "execution_count": null,
   "id": "f0747d54",
   "metadata": {
    "scrolled": true,
    "slideshow": {
     "slide_type": "subslide"
    }
   },
   "outputs": [],
   "source": [
    "g + theme_bw()"
   ]
  },
  {
   "cell_type": "code",
   "execution_count": null,
   "id": "d2413c1d",
   "metadata": {
    "scrolled": true,
    "slideshow": {
     "slide_type": "subslide"
    }
   },
   "outputs": [],
   "source": [
    "g + theme_void()"
   ]
  },
  {
   "cell_type": "code",
   "execution_count": null,
   "id": "b3953818",
   "metadata": {
    "scrolled": true,
    "slideshow": {
     "slide_type": "subslide"
    }
   },
   "outputs": [],
   "source": [
    "g + theme_classic()"
   ]
  },
  {
   "cell_type": "markdown",
   "id": "b1b486a7",
   "metadata": {
    "slideshow": {
     "slide_type": "subslide"
    }
   },
   "source": [
    "There are multiple ways to manipulate the legend. "
   ]
  },
  {
   "cell_type": "code",
   "execution_count": null,
   "id": "6b6b43f3",
   "metadata": {
    "scrolled": true,
    "slideshow": {
     "slide_type": "subslide"
    }
   },
   "outputs": [],
   "source": [
    "g + theme(legend.position = \"bottom\")"
   ]
  },
  {
   "cell_type": "markdown",
   "id": "ae409499",
   "metadata": {
    "slideshow": {
     "slide_type": "slide"
    }
   },
   "source": [
    "### Saving \n",
    "\n",
    "Plots can be exportet to <kbd>pdf</kbd> or <kbd>png</kbd> via `ggsave`. "
   ]
  },
  {
   "cell_type": "code",
   "execution_count": null,
   "id": "7b8f0a9b",
   "metadata": {
    "scrolled": true
   },
   "outputs": [],
   "source": [
    "ggsave(\"../source/09-scatterplot.pdf\", width = 6, height = 6, scale = 1)"
   ]
  },
  {
   "cell_type": "code",
   "execution_count": null,
   "id": "0d5133a4",
   "metadata": {
    "scrolled": true
   },
   "outputs": [],
   "source": [
    "ggsave(\"../source/09-scatterplot.png\", width = 6, height = 6, scale = 1)"
   ]
  },
  {
   "cell_type": "markdown",
   "id": "d0fc6037",
   "metadata": {
    "slideshow": {
     "slide_type": "slide"
    }
   },
   "source": [
    "### Maps\n",
    "\n",
    "We will now see how to create and color maps to display spatial data. First, load the `raster`-package."
   ]
  },
  {
   "cell_type": "code",
   "execution_count": null,
   "id": "8598cd8e",
   "metadata": {
    "scrolled": true
   },
   "outputs": [],
   "source": [
    "#install.packages(\"raster\") # takes some time\n",
    "library(\"raster\")\n",
    "library(\"dplyr\")"
   ]
  },
  {
   "cell_type": "code",
   "execution_count": null,
   "id": "84e1f4ec",
   "metadata": {
    "scrolled": true,
    "slideshow": {
     "slide_type": "subslide"
    }
   },
   "outputs": [],
   "source": [
    "USA = getData(\"GADM\", country = \"USA\", level = 2)"
   ]
  },
  {
   "cell_type": "markdown",
   "id": "fefba3f9",
   "metadata": {},
   "source": [
    "`USA` is a `S4` object, we can access its information with `@`: "
   ]
  },
  {
   "cell_type": "code",
   "execution_count": null,
   "id": "6d708145",
   "metadata": {
    "scrolled": true,
    "slideshow": {
     "slide_type": "subslide"
    }
   },
   "outputs": [],
   "source": [
    "str(USA@data)"
   ]
  },
  {
   "cell_type": "code",
   "execution_count": null,
   "id": "d2f7f2fa",
   "metadata": {
    "scrolled": true,
    "slideshow": {
     "slide_type": "subslide"
    }
   },
   "outputs": [],
   "source": [
    "USA@data"
   ]
  },
  {
   "cell_type": "markdown",
   "id": "bef84221",
   "metadata": {
    "slideshow": {
     "slide_type": "subslide"
    }
   },
   "source": [
    "The polygons used to draw the boundaries of the US and its states can be accessed using `@polygons`:"
   ]
  },
  {
   "cell_type": "code",
   "execution_count": null,
   "id": "b626f396",
   "metadata": {
    "scrolled": true
   },
   "outputs": [],
   "source": [
    "str(USA@polygons)"
   ]
  },
  {
   "cell_type": "markdown",
   "id": "023b259a",
   "metadata": {
    "slideshow": {
     "slide_type": "subslide"
    }
   },
   "source": [
    "In order to plot the map, we first transform the object to a <kbd>data.frame</kbd> using `fortify` in order to use `geom_polygon`."
   ]
  },
  {
   "cell_type": "code",
   "execution_count": null,
   "id": "a459edf9",
   "metadata": {
    "scrolled": true
   },
   "outputs": [],
   "source": [
    "californiaCountiesID = USA@data$NAME_1 == \"California\""
   ]
  },
  {
   "cell_type": "code",
   "execution_count": null,
   "id": "360c7d59",
   "metadata": {
    "scrolled": false
   },
   "outputs": [],
   "source": [
    "californiaCountiesID"
   ]
  },
  {
   "cell_type": "code",
   "execution_count": null,
   "id": "402043ae",
   "metadata": {
    "scrolled": true,
    "slideshow": {
     "slide_type": "subslide"
    }
   },
   "outputs": [],
   "source": [
    "californiaCountiesID = as.numeric(rownames(USA@data)[californiaCountiesID])"
   ]
  },
  {
   "cell_type": "code",
   "execution_count": null,
   "id": "1a0ab26a",
   "metadata": {
    "scrolled": true
   },
   "outputs": [],
   "source": [
    "californiaCountiesID"
   ]
  },
  {
   "cell_type": "code",
   "execution_count": null,
   "id": "d1ab00aa",
   "metadata": {
    "scrolled": true,
    "slideshow": {
     "slide_type": "subslide"
    }
   },
   "outputs": [],
   "source": [
    "pop <- read.table(\"../data/population.txt\", sep = \";\", header = T)\n",
    "pop$Population <- log(pop$Population)\n",
    "pop$id <- as.character(pop$id)"
   ]
  },
  {
   "cell_type": "code",
   "execution_count": null,
   "id": "c5f0c600",
   "metadata": {
    "scrolled": true
   },
   "outputs": [],
   "source": [
    "California <- fortify(USA) %>% \n",
    "  filter(id %in% californiaCountiesID) %>% \n",
    "  left_join(pop)"
   ]
  },
  {
   "cell_type": "code",
   "execution_count": null,
   "id": "b893303a",
   "metadata": {
    "scrolled": false,
    "slideshow": {
     "slide_type": "subslide"
    }
   },
   "outputs": [],
   "source": [
    "require(viridis)\n",
    "g <- ggplot(California, aes(long, lat, group = group, fill = Population)) +\n",
    "    geom_polygon() + scale_fill_viridis() + \n",
    "    theme_void() + coord_equal() + theme(legend.position = \"none\") + \n",
    "    labs(title = \"Population in California\",\n",
    "         subtitle = \"log-population per County\",\n",
    "         caption = \"Data from gadm.org and california-demographics.com\")\n",
    "g"
   ]
  },
  {
   "cell_type": "markdown",
   "id": "a1f4df8d",
   "metadata": {
    "slideshow": {
     "slide_type": "slide"
    }
   },
   "source": [
    "### Exercise \n",
    "\n",
    "On the plot of California, add the names of the three counties with largest and lowest population."
   ]
  }
 ],
 "metadata": {
  "celltoolbar": "Slideshow",
  "kernelspec": {
   "display_name": "R",
   "language": "R",
   "name": "ir"
  },
  "language_info": {
   "codemirror_mode": "r",
   "file_extension": ".r",
   "mimetype": "text/x-r-source",
   "name": "R",
   "pygments_lexer": "r",
   "version": "4.3.1"
  },
  "rise": {
   "progress": true,
   "scroll": true,
   "theme": "white"
  }
 },
 "nbformat": 4,
 "nbformat_minor": 5
}
