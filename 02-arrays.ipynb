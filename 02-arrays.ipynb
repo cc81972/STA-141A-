{
 "cells": [
  {
   "cell_type": "markdown",
   "id": "ddcbcbd8",
   "metadata": {
    "slideshow": {
     "slide_type": "slide"
    }
   },
   "source": [
    "# STA 141A Fundamentals of Statistical Data Science\n",
    "\n",
    "### Lecture 2, 10/3/23, Vectors and Matrices"
   ]
  },
  {
   "cell_type": "markdown",
   "id": "ad32dada",
   "metadata": {
    "slideshow": {
     "slide_type": "slide"
    }
   },
   "source": [
    "### Announcements\n",
    "\n",
    "- HW1 online, due this Friday 11:59 PM\n",
    "- Typo in HW1, see Piazza @10\n",
    "- Office hours: \n",
    "    * Peter Kramlinger: T 10:45-11:45 AM, MSB 1143\n",
    "    * Emily Chang: R 11 AM - 12 PM, MSB 1117\n",
    "    * Pranash Ramesh: F 10 AM - 11 AM, MSB 1117"
   ]
  },
  {
   "cell_type": "markdown",
   "id": "fdf2d525",
   "metadata": {
    "slideshow": {
     "slide_type": "slide"
    }
   },
   "source": [
    "### Last week's topics\n",
    "\n",
    "- Basics of R"
   ]
  },
  {
   "cell_type": "markdown",
   "id": "adad552a",
   "metadata": {
    "slideshow": {
     "slide_type": "slide"
    }
   },
   "source": [
    "Types: "
   ]
  },
  {
   "cell_type": "code",
   "execution_count": null,
   "id": "946b2145",
   "metadata": {
    "slideshow": {
     "slide_type": "slide"
    }
   },
   "outputs": [],
   "source": []
  },
  {
   "cell_type": "markdown",
   "id": "411f449e",
   "metadata": {
    "slideshow": {
     "slide_type": "slide"
    }
   },
   "source": [
    "Vectors: "
   ]
  },
  {
   "cell_type": "code",
   "execution_count": null,
   "id": "705bc766",
   "metadata": {
    "slideshow": {
     "slide_type": "-"
    }
   },
   "outputs": [],
   "source": []
  },
  {
   "cell_type": "markdown",
   "id": "c8d434ce",
   "metadata": {
    "slideshow": {
     "slide_type": "slide"
    }
   },
   "source": [
    "### Today's topics\n",
    "\n",
    "- Vectors\n",
    "- Matrices\n",
    "    - Creation\n",
    "    - Subsetting\n",
    "    - Operations\n",
    "- Lists\n",
    "- Arrays"
   ]
  },
  {
   "cell_type": "markdown",
   "id": "97194215",
   "metadata": {
    "slideshow": {
     "slide_type": "slide"
    }
   },
   "source": [
    "Last week, we ended with summary statistics. Alternatively , you can perform arithmetic operations on the vector itself."
   ]
  },
  {
   "cell_type": "code",
   "execution_count": null,
   "id": "2f5ed806",
   "metadata": {},
   "outputs": [],
   "source": [
    "x <- c(5, pi, -6, 2.4, 2L, 1, 12, 99, NA)"
   ]
  },
  {
   "cell_type": "code",
   "execution_count": null,
   "id": "07caee99",
   "metadata": {},
   "outputs": [],
   "source": [
    "x + 1"
   ]
  },
  {
   "cell_type": "code",
   "execution_count": null,
   "id": "548e0f23",
   "metadata": {},
   "outputs": [],
   "source": [
    "x + rep(c(7,4,4), times = 3)"
   ]
  },
  {
   "cell_type": "code",
   "execution_count": null,
   "id": "7ac248a5",
   "metadata": {
    "slideshow": {
     "slide_type": "slide"
    }
   },
   "outputs": [],
   "source": [
    "x + c(1,2) # throws warning, but still gives output! "
   ]
  },
  {
   "cell_type": "code",
   "execution_count": null,
   "id": "f2ea861e",
   "metadata": {},
   "outputs": [],
   "source": [
    "x^2"
   ]
  },
  {
   "cell_type": "code",
   "execution_count": null,
   "id": "1451267b",
   "metadata": {},
   "outputs": [],
   "source": [
    "x[3] = 3\n",
    "sqrt(x)\n",
    "log(x)"
   ]
  },
  {
   "cell_type": "markdown",
   "id": "e7f4e473",
   "metadata": {
    "slideshow": {
     "slide_type": "slide"
    }
   },
   "source": [
    "#### Combinatorics"
   ]
  },
  {
   "cell_type": "code",
   "execution_count": null,
   "id": "27c7eafc",
   "metadata": {},
   "outputs": [],
   "source": [
    "x[3] = -6\n",
    "x"
   ]
  },
  {
   "cell_type": "code",
   "execution_count": null,
   "id": "8bd7adaa",
   "metadata": {},
   "outputs": [],
   "source": [
    "sort(x) # ?sort"
   ]
  },
  {
   "cell_type": "code",
   "execution_count": null,
   "id": "990732bc",
   "metadata": {},
   "outputs": [],
   "source": [
    "order(x) # ?order"
   ]
  },
  {
   "cell_type": "code",
   "execution_count": null,
   "id": "fc80256a",
   "metadata": {},
   "outputs": [],
   "source": [
    "x[order(x)]"
   ]
  },
  {
   "cell_type": "code",
   "execution_count": null,
   "id": "3a5fd00e",
   "metadata": {
    "slideshow": {
     "slide_type": "slide"
    }
   },
   "outputs": [],
   "source": [
    "rev(x) # check ?rev"
   ]
  },
  {
   "cell_type": "code",
   "execution_count": null,
   "id": "926648ce",
   "metadata": {
    "slideshow": {
     "slide_type": "-"
    }
   },
   "outputs": [],
   "source": [
    "set.seed(123) # setting the seed allows replication of pseudo-random results\n",
    "sample(x, size = 5, replace = TRUE) # -6 is sampled twice! "
   ]
  },
  {
   "cell_type": "markdown",
   "id": "67b2d90e",
   "metadata": {
    "slideshow": {
     "slide_type": "slide"
    }
   },
   "source": [
    "#### Subsetting Vectors\n",
    "\n",
    "Elements in vectors can be accessed via squared brackets `[...]`. Contrary to the programming language Python, the first element is indexed with `1`. \n"
   ]
  },
  {
   "cell_type": "code",
   "execution_count": null,
   "id": "e5e11848",
   "metadata": {},
   "outputs": [],
   "source": [
    "x"
   ]
  },
  {
   "cell_type": "code",
   "execution_count": null,
   "id": "57e7252f",
   "metadata": {},
   "outputs": [],
   "source": [
    "x[5]"
   ]
  },
  {
   "cell_type": "code",
   "execution_count": null,
   "id": "eee384e3",
   "metadata": {},
   "outputs": [],
   "source": [
    "x[c(6, 2:4)] # we can subset x by indexing multiple entries"
   ]
  },
  {
   "cell_type": "code",
   "execution_count": null,
   "id": "9c8886eb",
   "metadata": {
    "slideshow": {
     "slide_type": "slide"
    }
   },
   "outputs": [],
   "source": [
    "x[-c(4:6)] # remove the third element"
   ]
  },
  {
   "cell_type": "code",
   "execution_count": null,
   "id": "709223ef",
   "metadata": {},
   "outputs": [],
   "source": [
    "x"
   ]
  },
  {
   "cell_type": "code",
   "execution_count": null,
   "id": "c48080e5",
   "metadata": {},
   "outputs": [],
   "source": [
    "which.max(x)"
   ]
  },
  {
   "cell_type": "code",
   "execution_count": null,
   "id": "1e3c72c8",
   "metadata": {},
   "outputs": [],
   "source": [
    "x"
   ]
  },
  {
   "cell_type": "code",
   "execution_count": null,
   "id": "a2b12eff",
   "metadata": {},
   "outputs": [],
   "source": [
    "x[which.max(x)] # check ?which.max\n",
    "max(x, na.rm = T)"
   ]
  },
  {
   "cell_type": "markdown",
   "id": "48a291d4",
   "metadata": {
    "slideshow": {
     "slide_type": "slide"
    }
   },
   "source": [
    "To ease illustration, lets remove the `NA`value in `x`: "
   ]
  },
  {
   "cell_type": "code",
   "execution_count": null,
   "id": "e868f396",
   "metadata": {},
   "outputs": [],
   "source": [
    "x <- na.omit(x)\n",
    "x"
   ]
  },
  {
   "cell_type": "markdown",
   "id": "9d75a1ac",
   "metadata": {
    "slideshow": {
     "slide_type": "slide"
    }
   },
   "source": [
    "As an alternative to indexing, elements in vectors can also be accessed via logical vectors: "
   ]
  },
  {
   "cell_type": "code",
   "execution_count": null,
   "id": "baf98732",
   "metadata": {},
   "outputs": [],
   "source": [
    "x > 3"
   ]
  },
  {
   "cell_type": "code",
   "execution_count": null,
   "id": "77e21317",
   "metadata": {},
   "outputs": [],
   "source": [
    "x[x > 3] # x > 3 returns a logical vector"
   ]
  },
  {
   "cell_type": "code",
   "execution_count": null,
   "id": "f90ac9a8",
   "metadata": {},
   "outputs": [],
   "source": [
    "x[c(F, F, T, T, T, F, F, F)] "
   ]
  },
  {
   "cell_type": "code",
   "execution_count": null,
   "id": "737481bb",
   "metadata": {
    "slideshow": {
     "slide_type": "slide"
    }
   },
   "outputs": [],
   "source": [
    "x>3\n",
    "which(x>3)"
   ]
  },
  {
   "cell_type": "code",
   "execution_count": null,
   "id": "a0afa82b",
   "metadata": {},
   "outputs": [],
   "source": [
    "x[x>3]\n",
    "x[which(x>3)]"
   ]
  },
  {
   "cell_type": "code",
   "execution_count": null,
   "id": "de8b2474",
   "metadata": {},
   "outputs": [],
   "source": [
    "abs(x[x>3] - x[which(x>3)]) > 10^-3 # boolean operations on vectors are element-wise"
   ]
  },
  {
   "cell_type": "code",
   "execution_count": null,
   "id": "9f640649",
   "metadata": {},
   "outputs": [],
   "source": [
    "c(5, pi) %in% x # checks wether the constant pi is in x"
   ]
  },
  {
   "cell_type": "markdown",
   "id": "00ceaf96",
   "metadata": {
    "slideshow": {
     "slide_type": "slide"
    }
   },
   "source": [
    "Accessing the last entry is tricky as there is no `end` analogue. "
   ]
  },
  {
   "cell_type": "code",
   "execution_count": null,
   "id": "7a6fb9fa",
   "metadata": {},
   "outputs": [],
   "source": [
    "x[length(x)]\n",
    "rev(x)[1]\n",
    "tail(x, 7) # check ?tail and ?head"
   ]
  },
  {
   "cell_type": "code",
   "execution_count": null,
   "id": "df9cf28b",
   "metadata": {
    "scrolled": true
   },
   "outputs": [],
   "source": [
    "x[length(x)-1]\n",
    "rev(x)[2]"
   ]
  },
  {
   "cell_type": "markdown",
   "id": "4a125ae3",
   "metadata": {
    "slideshow": {
     "slide_type": "slide"
    }
   },
   "source": [
    "#### Categorical vectors\n",
    "\n",
    "Factors are classifications of categorical entries of a vector. Once created, a factor can only assume the pre-defined values, so called levels. Although mostly used for strings, factors can also be indicated with numbers."
   ]
  },
  {
   "cell_type": "code",
   "execution_count": null,
   "id": "162844c1",
   "metadata": {},
   "outputs": [],
   "source": [
    "set.seed(2022)\n",
    "x <- sample(c(\"terrible\", \"bad\", \"awesome\", \"indifferent\"), 10, replace = T) "
   ]
  },
  {
   "cell_type": "code",
   "execution_count": null,
   "id": "8f497e53",
   "metadata": {},
   "outputs": [],
   "source": [
    "str(x) # character vector\n",
    "x"
   ]
  },
  {
   "cell_type": "code",
   "execution_count": null,
   "id": "2d02e989",
   "metadata": {
    "slideshow": {
     "slide_type": "slide"
    }
   },
   "outputs": [],
   "source": [
    "y <- factor(x)\n",
    "str(y) # factor vector"
   ]
  },
  {
   "cell_type": "code",
   "execution_count": null,
   "id": "9170f1ab",
   "metadata": {},
   "outputs": [],
   "source": [
    "levels(y)"
   ]
  },
  {
   "cell_type": "markdown",
   "id": "b91c0fe7",
   "metadata": {
    "slideshow": {
     "slide_type": "fragment"
    }
   },
   "source": [
    "Although `indifferent` comes before `awesome` in `x`, the levels are alphabetically sorted. We can prevent this by calling: "
   ]
  },
  {
   "cell_type": "code",
   "execution_count": null,
   "id": "c4854fca",
   "metadata": {
    "slideshow": {
     "slide_type": "slide"
    }
   },
   "outputs": [],
   "source": [
    "z <- factor(x, levels = unique(x)) # check ?unique\n",
    "levels(z)"
   ]
  },
  {
   "cell_type": "markdown",
   "id": "63661818",
   "metadata": {},
   "source": [
    "Note that `terrible` has not been sampled, and consequently not `terrible` level has been generated. In such cases or if we foresee that other levels to be included further downstream, we can already define them now: "
   ]
  },
  {
   "cell_type": "code",
   "execution_count": null,
   "id": "03b7d3e3",
   "metadata": {},
   "outputs": [],
   "source": [
    "z <- factor(x, levels = c(\"awesome\", \"indifferent\", \"bad\", \"terrible\"), ordered = TRUE) \n",
    "levels(z) # levels do not have to be strings!"
   ]
  },
  {
   "cell_type": "code",
   "execution_count": null,
   "id": "401a0b9b",
   "metadata": {},
   "outputs": [],
   "source": [
    "attributes(z)"
   ]
  },
  {
   "cell_type": "markdown",
   "id": "213e03e5",
   "metadata": {
    "slideshow": {
     "slide_type": "-"
    }
   },
   "source": [
    "The `ordered` argument allows us to order entries. In this case, `terrible` is the highest (worst) possible entry in `z`, but the highest present is `bad`."
   ]
  },
  {
   "cell_type": "markdown",
   "id": "9cb561db",
   "metadata": {
    "slideshow": {
     "slide_type": "slide"
    }
   },
   "source": [
    "Ordered levels allow functions that require an ordinal structure. "
   ]
  },
  {
   "cell_type": "code",
   "execution_count": null,
   "id": "c162c343",
   "metadata": {},
   "outputs": [],
   "source": [
    "max(z)"
   ]
  },
  {
   "cell_type": "markdown",
   "id": "e52913ab",
   "metadata": {
    "slideshow": {
     "slide_type": "slide"
    }
   },
   "source": [
    "The use of factors prevent typos and enhance data cleanliness. "
   ]
  },
  {
   "cell_type": "code",
   "execution_count": null,
   "id": "0580bdbb",
   "metadata": {},
   "outputs": [],
   "source": [
    "z[4] <- \"terrrible\" # typo!\n",
    "z"
   ]
  },
  {
   "cell_type": "markdown",
   "id": "e2f8fd9c",
   "metadata": {
    "slideshow": {
     "slide_type": "slide"
    }
   },
   "source": [
    "R is particularly useful in visualizing data structures. Categorical data can be summarized via `table`. "
   ]
  },
  {
   "cell_type": "code",
   "execution_count": null,
   "id": "275ea5fc",
   "metadata": {},
   "outputs": [],
   "source": [
    "z"
   ]
  },
  {
   "cell_type": "code",
   "execution_count": null,
   "id": "d875bc4f",
   "metadata": {},
   "outputs": [],
   "source": [
    "table(z)\n",
    "z\n",
    "x"
   ]
  },
  {
   "cell_type": "code",
   "execution_count": null,
   "id": "1926e37c",
   "metadata": {
    "scrolled": true,
    "slideshow": {
     "slide_type": "slide"
    }
   },
   "outputs": [],
   "source": [
    "set.seed(123)\n",
    "x <- sample(c(\"apple\", \"banana\"), 10, replace = T)\n",
    "table(z, x)"
   ]
  },
  {
   "cell_type": "markdown",
   "id": "64b80536",
   "metadata": {
    "slideshow": {
     "slide_type": "slide"
    }
   },
   "source": [
    "### Matrices\n",
    "\n",
    "Matrices are a collection of vectors of the same length and type. They are generated by partitioning a vector with the command `matrix`: "
   ]
  },
  {
   "cell_type": "code",
   "execution_count": null,
   "id": "9d01f5cc",
   "metadata": {},
   "outputs": [],
   "source": [
    "set.seed(2022)\n",
    "x <- sample(1:10, 12, replace = TRUE)\n",
    "x"
   ]
  },
  {
   "cell_type": "code",
   "execution_count": null,
   "id": "7daaccdd",
   "metadata": {},
   "outputs": [],
   "source": [
    "attributes(x)"
   ]
  },
  {
   "cell_type": "code",
   "execution_count": null,
   "id": "f2d41377",
   "metadata": {
    "slideshow": {
     "slide_type": "-"
    }
   },
   "outputs": [],
   "source": [
    "matrix(data = x, nrow = 3, ncol = 4) # breaks x by column"
   ]
  },
  {
   "cell_type": "code",
   "execution_count": null,
   "id": "812a4fc0",
   "metadata": {
    "slideshow": {
     "slide_type": "slide"
    }
   },
   "outputs": [],
   "source": [
    "matrix(data = x, nrow = 3, ncol = 4) # breaks x by column"
   ]
  },
  {
   "cell_type": "code",
   "execution_count": null,
   "id": "a437c2f8",
   "metadata": {
    "slideshow": {
     "slide_type": "-"
    }
   },
   "outputs": [],
   "source": [
    "matrix(x, nr = 3, nc = 4, byrow = T) # breaks x by row # replace ncol by nc"
   ]
  },
  {
   "cell_type": "code",
   "execution_count": null,
   "id": "395652fe",
   "metadata": {
    "slideshow": {
     "slide_type": "slide"
    }
   },
   "outputs": [],
   "source": [
    "A <- matrix(1:12, 3, 4)\n",
    "colnames(A) <- c(\"A\", \"B\", \"C\", \"D\")\n",
    "rownames(A) <- c(\"a\", \"b\", \"c\")\n",
    "A"
   ]
  },
  {
   "cell_type": "code",
   "execution_count": null,
   "id": "fdca6218",
   "metadata": {},
   "outputs": [],
   "source": [
    "str(A)"
   ]
  },
  {
   "cell_type": "code",
   "execution_count": null,
   "id": "bbff27d8",
   "metadata": {},
   "outputs": [],
   "source": [
    "attributes(A)"
   ]
  },
  {
   "cell_type": "code",
   "execution_count": null,
   "id": "8f987208",
   "metadata": {
    "slideshow": {
     "slide_type": "slide"
    }
   },
   "outputs": [],
   "source": [
    "nrow(A)\n",
    "ncol(A)\n",
    "dim(A) # returns 2-dimensional vector"
   ]
  },
  {
   "cell_type": "code",
   "execution_count": null,
   "id": "09cefc96",
   "metadata": {},
   "outputs": [],
   "source": [
    "tail(A, 2)"
   ]
  },
  {
   "cell_type": "code",
   "execution_count": null,
   "id": "81e78902",
   "metadata": {
    "slideshow": {
     "slide_type": "slide"
    }
   },
   "outputs": [],
   "source": [
    "cbind(A, E = 1:3) # ?cbind add new column, note that it has no name"
   ]
  },
  {
   "cell_type": "code",
   "execution_count": null,
   "id": "c04cedd7",
   "metadata": {},
   "outputs": [],
   "source": [
    "rbind(A, d = 1:4) "
   ]
  },
  {
   "cell_type": "code",
   "execution_count": null,
   "id": "78bb70cc",
   "metadata": {
    "slideshow": {
     "slide_type": "slide"
    }
   },
   "outputs": [],
   "source": [
    "A"
   ]
  },
  {
   "cell_type": "code",
   "execution_count": null,
   "id": "ff419b9d",
   "metadata": {},
   "outputs": [],
   "source": [
    "diag(A) # extracts the diagonal from a matrix"
   ]
  },
  {
   "cell_type": "code",
   "execution_count": null,
   "id": "d5630e14",
   "metadata": {},
   "outputs": [],
   "source": [
    "diag(1:4) # generates a (diagonal) matrix"
   ]
  },
  {
   "cell_type": "markdown",
   "id": "fa032508",
   "metadata": {
    "slideshow": {
     "slide_type": "slide"
    }
   },
   "source": [
    "#### Subsetting \n",
    "\n",
    "The entries in a matrix can be accessed in two ways: \n",
    "i) By specifying the index of the vector of stacked column vectors, \n",
    "ii) by specifying row and column index."
   ]
  },
  {
   "cell_type": "code",
   "execution_count": null,
   "id": "9fd677ff",
   "metadata": {},
   "outputs": [],
   "source": [
    "A\n",
    "a <- as.vector(A) # vector of stacked columns\n",
    "a"
   ]
  },
  {
   "cell_type": "code",
   "execution_count": null,
   "id": "6483aed6",
   "metadata": {
    "slideshow": {
     "slide_type": "slide"
    }
   },
   "outputs": [],
   "source": [
    "A[8] # variant i), with index"
   ]
  },
  {
   "cell_type": "code",
   "execution_count": null,
   "id": "6bb1aace",
   "metadata": {},
   "outputs": [],
   "source": [
    "A[c(F, F, F, F, F, F, F, T, F, F, F, F)] # variant i), with logical vector"
   ]
  },
  {
   "cell_type": "code",
   "execution_count": null,
   "id": "7e237e16",
   "metadata": {},
   "outputs": [],
   "source": [
    "A[2:3, 3:4] # variant ii) #  second row, third column—"
   ]
  },
  {
   "cell_type": "code",
   "execution_count": null,
   "id": "1d7e363c",
   "metadata": {
    "slideshow": {
     "slide_type": "slide"
    }
   },
   "outputs": [],
   "source": [
    "A[c(F, T, T), c(F, F, T, T)] # variant ii) "
   ]
  },
  {
   "cell_type": "code",
   "execution_count": null,
   "id": "4579d246",
   "metadata": {},
   "outputs": [],
   "source": [
    "A[c(\"b\", \"c\"), c(\"C\", \"h\")]"
   ]
  },
  {
   "cell_type": "markdown",
   "id": "43c0074a",
   "metadata": {
    "slideshow": {
     "slide_type": "slide"
    }
   },
   "source": [
    "By accessing an either row- or column-vector of a matrix, we can employ the techniques we learned last lecture for accessing vectors: "
   ]
  },
  {
   "cell_type": "code",
   "execution_count": null,
   "id": "63aba71b",
   "metadata": {},
   "outputs": [],
   "source": [
    "x <- A[,\"C\"]\n",
    "x\n",
    "str(x)"
   ]
  },
  {
   "cell_type": "code",
   "execution_count": null,
   "id": "065b7554",
   "metadata": {},
   "outputs": [],
   "source": [
    "which(A == 8)"
   ]
  },
  {
   "cell_type": "code",
   "execution_count": null,
   "id": "949a9143",
   "metadata": {},
   "outputs": [],
   "source": [
    "which(x == 8) # returns index of column vector x which equals row"
   ]
  },
  {
   "cell_type": "markdown",
   "id": "7a679a20",
   "metadata": {
    "slideshow": {
     "slide_type": "slide"
    }
   },
   "source": [
    "As for vectors, logical operations on matrices are element-wise. "
   ]
  },
  {
   "cell_type": "code",
   "execution_count": null,
   "id": "28ef4190",
   "metadata": {},
   "outputs": [],
   "source": [
    "A > 5 "
   ]
  },
  {
   "cell_type": "markdown",
   "id": "d96452d8",
   "metadata": {
    "slideshow": {
     "slide_type": "slide"
    }
   },
   "source": [
    "#### Operations\n",
    "\n",
    "As for vectors, statistics can be computed for the whole data provided in the matrix. "
   ]
  },
  {
   "cell_type": "code",
   "execution_count": null,
   "id": "670e632c",
   "metadata": {},
   "outputs": [],
   "source": [
    "A"
   ]
  },
  {
   "cell_type": "code",
   "execution_count": null,
   "id": "febd215e",
   "metadata": {},
   "outputs": [],
   "source": [
    "mean(A)\n",
    "sum(A) / length(A)"
   ]
  },
  {
   "cell_type": "code",
   "execution_count": null,
   "id": "768cbcec",
   "metadata": {},
   "outputs": [],
   "source": [
    "prod(A) "
   ]
  },
  {
   "cell_type": "markdown",
   "id": "db5e912f",
   "metadata": {
    "slideshow": {
     "slide_type": "slide"
    }
   },
   "source": [
    "The values in the columns or rows are often of different nature and should be aggregated seperately. "
   ]
  },
  {
   "cell_type": "code",
   "execution_count": null,
   "id": "a37b958f",
   "metadata": {},
   "outputs": [],
   "source": [
    "colMeans(A)\n",
    "colSums(A)"
   ]
  },
  {
   "cell_type": "code",
   "execution_count": null,
   "id": "3e60921b",
   "metadata": {
    "slideshow": {
     "slide_type": "slide"
    }
   },
   "outputs": [],
   "source": [
    "t(A) # transpose"
   ]
  },
  {
   "cell_type": "code",
   "execution_count": null,
   "id": "8928945e",
   "metadata": {},
   "outputs": [],
   "source": [
    "rowMeans(A)\n",
    "rowSums(A)"
   ]
  },
  {
   "cell_type": "code",
   "execution_count": null,
   "id": "97159582",
   "metadata": {},
   "outputs": [],
   "source": [
    "colMeans(t(A))\n",
    "colSums(t(A))"
   ]
  },
  {
   "cell_type": "markdown",
   "id": "0f030b45",
   "metadata": {
    "slideshow": {
     "slide_type": "slide"
    }
   },
   "source": [
    "A very useful method used to on matrices is `apply`. It evaluates a function iteratively on all rows (or columns), respectively. "
   ]
  },
  {
   "cell_type": "code",
   "execution_count": null,
   "id": "97ba87fa",
   "metadata": {},
   "outputs": [],
   "source": [
    "?apply"
   ]
  },
  {
   "cell_type": "code",
   "execution_count": null,
   "id": "a277b02a",
   "metadata": {},
   "outputs": [],
   "source": [
    "apply(A, MARGIN = 2, FUN = function(x) which(x == 4)) # MARGIN = 1 refers to rows"
   ]
  },
  {
   "cell_type": "code",
   "execution_count": null,
   "id": "cf0f290a",
   "metadata": {},
   "outputs": [],
   "source": [
    "apply(A, 2, prod) # MARGIN = 2 refers to columns"
   ]
  },
  {
   "cell_type": "markdown",
   "id": "0eaf3b49",
   "metadata": {
    "slideshow": {
     "slide_type": "slide"
    }
   },
   "source": [
    "Matrix notation is commonly used for comprehensive formulae. Consequently, R can work with matrix algebra. "
   ]
  },
  {
   "cell_type": "code",
   "execution_count": null,
   "id": "dda6f4fc",
   "metadata": {},
   "outputs": [],
   "source": [
    "dim(A)"
   ]
  },
  {
   "cell_type": "code",
   "execution_count": null,
   "id": "96909342",
   "metadata": {},
   "outputs": [],
   "source": [
    "set.seed(123)\n",
    "B <- matrix(sample(1:4, 9, TRUE), 3, 3)\n",
    "dim(B)"
   ]
  },
  {
   "cell_type": "code",
   "execution_count": null,
   "id": "8b717edf",
   "metadata": {},
   "outputs": [],
   "source": [
    "A %*% B"
   ]
  },
  {
   "cell_type": "code",
   "execution_count": null,
   "id": "90d1c497",
   "metadata": {
    "slideshow": {
     "slide_type": "slide"
    }
   },
   "outputs": [],
   "source": [
    "B %*% A # matrix product B A # note the preserved column names!"
   ]
  },
  {
   "cell_type": "code",
   "execution_count": null,
   "id": "6684dc08",
   "metadata": {
    "slideshow": {
     "slide_type": "-"
    }
   },
   "outputs": [],
   "source": [
    "t(A) %*% B # matrix product of the transpose of A times B"
   ]
  },
  {
   "cell_type": "markdown",
   "id": "5161fcbf",
   "metadata": {
    "slideshow": {
     "slide_type": "slide"
    }
   },
   "source": [
    "Element-wise operations are computed with standard operators: "
   ]
  },
  {
   "cell_type": "code",
   "execution_count": null,
   "id": "f11a1755",
   "metadata": {},
   "outputs": [],
   "source": [
    "A"
   ]
  },
  {
   "cell_type": "code",
   "execution_count": null,
   "id": "f5370f35",
   "metadata": {},
   "outputs": [],
   "source": [
    "3 * A"
   ]
  },
  {
   "cell_type": "code",
   "execution_count": null,
   "id": "081a71f8",
   "metadata": {
    "slideshow": {
     "slide_type": "slide"
    }
   },
   "outputs": [],
   "source": [
    "A[,-4] * B # element-wise operation"
   ]
  },
  {
   "cell_type": "markdown",
   "id": "76fcd2a3",
   "metadata": {
    "slideshow": {
     "slide_type": "slide"
    }
   },
   "source": [
    "If non-singular, a matrix inversion can be computed using `solve`. "
   ]
  },
  {
   "cell_type": "code",
   "execution_count": null,
   "id": "d7be5dcc",
   "metadata": {},
   "outputs": [],
   "source": [
    "solve(B)"
   ]
  },
  {
   "cell_type": "code",
   "execution_count": null,
   "id": "21141792",
   "metadata": {},
   "outputs": [],
   "source": [
    "C <- solve(B) %*% B"
   ]
  },
  {
   "cell_type": "code",
   "execution_count": null,
   "id": "fbe88d69",
   "metadata": {},
   "outputs": [],
   "source": [
    "mean((C - diag(diag(C)))^2)"
   ]
  },
  {
   "cell_type": "markdown",
   "id": "b0fc1969",
   "metadata": {
    "slideshow": {
     "slide_type": "slide"
    }
   },
   "source": [
    "### Lists\n",
    "\n",
    "Lists are different from vectors and matrices as their elements can be of any type. Their constructor is `list`.  They are a step up in complexity from atomic vectors, because lists can contain other lists."
   ]
  },
  {
   "cell_type": "code",
   "execution_count": null,
   "id": "d910c749",
   "metadata": {},
   "outputs": [],
   "source": [
    "x <- c(name = \"Fred\", wife = \"Mary\", children_number = 3, children_age = c(4, 7, 9), resident = TRUE)\n",
    "x"
   ]
  },
  {
   "cell_type": "code",
   "execution_count": null,
   "id": "5b1e382e",
   "metadata": {},
   "outputs": [],
   "source": [
    "x <- list(name = \"Fred\", \n",
    "          wife = \"Mary\", \n",
    "          children_number = 3,\n",
    "          children_age = c(4, 7, 9), \n",
    "          resident = TRUE, \n",
    "          TRUE)"
   ]
  },
  {
   "cell_type": "code",
   "execution_count": null,
   "id": "312fbdb7",
   "metadata": {
    "slideshow": {
     "slide_type": "slide"
    }
   },
   "outputs": [],
   "source": [
    "str(x)"
   ]
  },
  {
   "cell_type": "code",
   "execution_count": null,
   "id": "fe9559a1",
   "metadata": {
    "slideshow": {
     "slide_type": "slide"
    }
   },
   "outputs": [],
   "source": [
    "x$children_age # accesss entry by entry name"
   ]
  },
  {
   "cell_type": "code",
   "execution_count": null,
   "id": "1948640f",
   "metadata": {},
   "outputs": [],
   "source": [
    "x[[4]] # children_age is the fourth entry of the list"
   ]
  },
  {
   "cell_type": "code",
   "execution_count": null,
   "id": "cb60352a",
   "metadata": {},
   "outputs": [],
   "source": [
    "x[[\"children_age\"]]"
   ]
  },
  {
   "cell_type": "code",
   "execution_count": null,
   "id": "bdaba509",
   "metadata": {},
   "outputs": [],
   "source": [
    "x[1]"
   ]
  },
  {
   "cell_type": "markdown",
   "id": "45ea2275",
   "metadata": {
    "slideshow": {
     "slide_type": "slide"
    }
   },
   "source": [
    "Note the difference in using single brackets and double brackets: "
   ]
  },
  {
   "cell_type": "code",
   "execution_count": null,
   "id": "238ba8f0",
   "metadata": {},
   "outputs": [],
   "source": [
    "x[[1]]"
   ]
  },
  {
   "cell_type": "code",
   "execution_count": null,
   "id": "c10f8092",
   "metadata": {},
   "outputs": [],
   "source": [
    "str(x[[1]])\n",
    "str(x[1])"
   ]
  },
  {
   "cell_type": "code",
   "execution_count": null,
   "id": "2bd6306c",
   "metadata": {
    "slideshow": {
     "slide_type": "slide"
    }
   },
   "outputs": [],
   "source": [
    "attributes(x) # outputs a list of 1"
   ]
  },
  {
   "cell_type": "code",
   "execution_count": null,
   "id": "9402e774",
   "metadata": {},
   "outputs": [],
   "source": [
    "attributes(x)$names"
   ]
  },
  {
   "cell_type": "code",
   "execution_count": null,
   "id": "101e6e77",
   "metadata": {
    "slideshow": {
     "slide_type": "slide"
    }
   },
   "outputs": [],
   "source": [
    "x"
   ]
  },
  {
   "cell_type": "code",
   "execution_count": null,
   "id": "aabbb6e8",
   "metadata": {},
   "outputs": [],
   "source": [
    "x$children <- list(number = x$children_number, \n",
    "                   age = x$children_age, \n",
    "                   names = c(\"Aaron\", \"Bob\", \"Charly\"))"
   ]
  },
  {
   "cell_type": "code",
   "execution_count": null,
   "id": "b4bcf999",
   "metadata": {},
   "outputs": [],
   "source": [
    "str(x)"
   ]
  },
  {
   "cell_type": "markdown",
   "id": "f1c3f366",
   "metadata": {
    "slideshow": {
     "slide_type": "slide"
    }
   },
   "source": [
    "One can apply a function on a list with `lapply`, if applicable: "
   ]
  },
  {
   "cell_type": "code",
   "execution_count": null,
   "id": "a8b489a6",
   "metadata": {},
   "outputs": [],
   "source": [
    "y <- lapply(x, length)\n",
    "y"
   ]
  },
  {
   "cell_type": "code",
   "execution_count": null,
   "id": "702077f6",
   "metadata": {},
   "outputs": [],
   "source": [
    "str(y)"
   ]
  },
  {
   "cell_type": "markdown",
   "id": "5286eab4",
   "metadata": {
    "slideshow": {
     "slide_type": "slide"
    }
   },
   "source": [
    "Since the result is a list with entries of dimension one, it can be transformed to a vector using `unlist`: "
   ]
  },
  {
   "cell_type": "code",
   "execution_count": null,
   "id": "aa2faf96",
   "metadata": {},
   "outputs": [],
   "source": [
    "unlist(x) # again a named vector"
   ]
  },
  {
   "cell_type": "code",
   "execution_count": null,
   "id": "4acb1283",
   "metadata": {},
   "outputs": [],
   "source": [
    "dim(x)"
   ]
  },
  {
   "cell_type": "markdown",
   "id": "976de999",
   "metadata": {
    "slideshow": {
     "slide_type": "slide"
    }
   },
   "source": [
    "### Arrays\n",
    "\n",
    "Arrays are lists with a dimension argument. \n"
   ]
  },
  {
   "cell_type": "code",
   "execution_count": null,
   "id": "1ae44135",
   "metadata": {},
   "outputs": [],
   "source": [
    "dim(x) # dimension of list does not work"
   ]
  },
  {
   "cell_type": "code",
   "execution_count": null,
   "id": "f2c54996",
   "metadata": {},
   "outputs": [],
   "source": [
    "?array"
   ]
  },
  {
   "cell_type": "code",
   "execution_count": null,
   "id": "ac035d6b",
   "metadata": {
    "slideshow": {
     "slide_type": "-"
    }
   },
   "outputs": [],
   "source": [
    "z <- array(data = 1:(2 * 3 * 2), dim = c(2, 3, 2)) # generates two 2 times 3 matrices \n",
    "dim(z)"
   ]
  },
  {
   "cell_type": "code",
   "execution_count": null,
   "id": "20a73856",
   "metadata": {
    "slideshow": {
     "slide_type": "slide"
    }
   },
   "outputs": [],
   "source": [
    "z[,,1]"
   ]
  },
  {
   "cell_type": "code",
   "execution_count": null,
   "id": "025c8e72",
   "metadata": {},
   "outputs": [],
   "source": [
    "z[,,2]"
   ]
  },
  {
   "cell_type": "code",
   "execution_count": null,
   "id": "1ea19c6d",
   "metadata": {
    "slideshow": {
     "slide_type": "-"
    }
   },
   "outputs": [],
   "source": [
    "z[,,3] # throws error"
   ]
  },
  {
   "cell_type": "markdown",
   "id": "073c9e77",
   "metadata": {
    "slideshow": {
     "slide_type": "slide"
    }
   },
   "source": [
    "The entries of the matrices can be accessed by their corresponding index: "
   ]
  },
  {
   "cell_type": "code",
   "execution_count": null,
   "id": "4371669c",
   "metadata": {
    "slideshow": {
     "slide_type": "-"
    }
   },
   "outputs": [],
   "source": [
    "z[,,2] # returns first column vector of second matrix "
   ]
  },
  {
   "cell_type": "code",
   "execution_count": null,
   "id": "6dbb1cb0",
   "metadata": {},
   "outputs": [],
   "source": [
    "z[,,2][,1] # alternative method"
   ]
  },
  {
   "cell_type": "code",
   "execution_count": null,
   "id": "05b97c2a",
   "metadata": {},
   "outputs": [],
   "source": [
    "z[,2:3,2]"
   ]
  },
  {
   "cell_type": "markdown",
   "id": "7b8f0f01",
   "metadata": {
    "slideshow": {
     "slide_type": "slide"
    }
   },
   "source": [
    "### Exercises\n",
    "\n",
    "Set the seed as `2023`. \n",
    "\n",
    "Create a matrix $X$ of dimension $20\\times 2$ of pseudo-random independent draws of the standard Gaussian distribution using the function `rnorm`. \n",
    "Add a column vector $(1, \\dots, 1)^t$ of dimension 20 as the first column of $X$. \n",
    "\n",
    "Name the columns of $X$ as Intercept, Column 1 and Column 2. \n",
    "\n",
    "Create a vector $\\beta = (4,0.1, 12)^t)$ and generate an pseudo-random independent Gaussian sample $y$ with $\\mbox{E}(y) = X\\beta$ using `rnorm`. \n",
    "\n",
    "Compute the least-squares estimator $\\widehat\\beta = (X^tX)^{-1}X^ty$ for $\\beta$ and rate the estimate. "
   ]
  }
 ],
 "metadata": {
  "celltoolbar": "Slideshow",
  "kernelspec": {
   "display_name": "R",
   "language": "R",
   "name": "ir"
  },
  "language_info": {
   "codemirror_mode": "r",
   "file_extension": ".r",
   "mimetype": "text/x-r-source",
   "name": "R",
   "pygments_lexer": "r",
   "version": "4.3.1"
  },
  "rise": {
   "progress": true,
   "scroll": true,
   "theme": "white"
  }
 },
 "nbformat": 4,
 "nbformat_minor": 5
}
