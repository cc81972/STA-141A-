{
 "cells": [
  {
   "cell_type": "markdown",
   "id": "ddcbcbd8",
   "metadata": {
    "slideshow": {
     "slide_type": "slide"
    }
   },
   "source": [
    "# STA 141A Fundamentals of Statistical Data Science\n",
    "\n",
    "### Lecture 7, 10/24/23, Plotting with `ggplot2` 1/2"
   ]
  },
  {
   "cell_type": "markdown",
   "id": "97d4a460",
   "metadata": {
    "slideshow": {
     "slide_type": "slide"
    }
   },
   "source": [
    "### Announcements\n",
    "\n",
    "- "
   ]
  },
  {
   "cell_type": "markdown",
   "id": "994d8cf3",
   "metadata": {
    "slideshow": {
     "slide_type": "slide"
    }
   },
   "source": [
    "### Last week's topics\n",
    "\n",
    "- Base R plotting\n",
    "- Midterm"
   ]
  },
  {
   "cell_type": "code",
   "execution_count": null,
   "id": "d307a8c2",
   "metadata": {
    "scrolled": true,
    "slideshow": {
     "slide_type": "-"
    }
   },
   "outputs": [],
   "source": []
  },
  {
   "cell_type": "markdown",
   "id": "4bbdcda3",
   "metadata": {
    "slideshow": {
     "slide_type": "slide"
    }
   },
   "source": [
    "\n",
    "### Today's topics\n",
    "\n",
    "\n",
    "- Final Project\n",
    "- Structure of `ggplot`\n",
    "- `geom_`s\n",
    "- Global and local mappings\n",
    "- Coloring the graphic"
   ]
  },
  {
   "cell_type": "markdown",
   "id": "40bff98c",
   "metadata": {
    "slideshow": {
     "slide_type": "slide"
    }
   },
   "source": [
    "### Final Project\n",
    "\n",
    "You should work alone or with up to two partners. The purpose of the project is to perform a statistical analysis on real data. \n",
    "This includes:\n",
    "\n",
    "* Acquire a data set (e.g., from [Kaggle](https://www.kaggle.com/datasets) or [FiveThirtyEight](https://github.com/fivethirtyeight/data))\n",
    "* Posing questions and developing hypotheses\n",
    "* Processing the data \n",
    "* Exploring and visualizing the data\n",
    "* Performing a statistical analysis (modelling, clustering)\n",
    "* Presenting your findings through writing"
   ]
  },
  {
   "cell_type": "markdown",
   "id": "bde328ca",
   "metadata": {
    "slideshow": {
     "slide_type": "slide"
    }
   },
   "source": [
    "#### Getting Started\n",
    "\n",
    "To narrow down your project to just one topic, think\n",
    "about:\n",
    "\n",
    "*   What questions does your topic address or what problems does your topic\n",
    "    solve? Why and to whom are these meaningful?\n",
    "*   What questions can be ansered with your data and methods? \n",
    "*   Are there credible, **public** datasets available to explore the topic?\n",
    "*   Is a 6-week project long enough to explore the topic reasonably well?\n",
    "\n",
    "As inspiration and an example of what can be done with public datasets, see [I\n",
    "Quant NY][NY]. \n",
    "\n",
    "[NY]: http://iquantny.tumblr.com/post/144197004989/the-nypd-was-systematically-ticketing-legally"
   ]
  },
  {
   "cell_type": "markdown",
   "id": "e2bb81a7",
   "metadata": {
    "slideshow": {
     "slide_type": "slide"
    }
   },
   "source": [
    "#### Proposal\n",
    "\n",
    "Your group should submit a 1-2 page project proposal by\n",
    "__November 4th 11:59pm__. Your proposal should address:\n",
    "\n",
    "*   What's the topic of your project? What question(s) will you attempt to\n",
    "    answer or what problems will you attempt to solve? Why and to whom are\n",
    "    these meaningful?\n",
    "\n",
    "*   What data source(s) will your team use? Briefly describe each data source\n",
    "    and explain how you think you will use it. Provide a link for each data\n",
    "    source. This is a check to make sure that there is actually data available\n",
    "    for your topic. If you ultimately decide not to use some of the data\n",
    "    sources, or find additional data sources later, that's okay.\n",
    "\n",
    "*   What makes your project challenging? Consider that you will have about 6\n",
    "    weeks to work on the project. "
   ]
  },
  {
   "cell_type": "markdown",
   "id": "6ae17766",
   "metadata": {
    "slideshow": {
     "slide_type": "subslide"
    }
   },
   "source": [
    "The proposal is your best opportunity to get feedback on your project. Make\n",
    "sure it's clear and addresses the questions above. You can also use the\n",
    "proposal to tell us about any other comments or concerns you have about your\n",
    "project topic. You do not need to present any data analyses in the proposal.\n",
    "\n",
    "The proposal will be graded satisfactory/unsatisfactory. This will not count for your final grade. \n",
    "Your priority should be working on the project itself; don't spend more than a few hours working on\n",
    "the proposal. \n",
    "The proposal is to be submitted to Canvas. "
   ]
  },
  {
   "cell_type": "markdown",
   "id": "9ddeaba6",
   "metadata": {
    "slideshow": {
     "slide_type": "slide"
    }
   },
   "source": [
    "#### Grading criteria\n",
    "\n",
    "The final report is due on __December 15__. The report should be 8-10 pages\n",
    "including writing and visualizations, but excluding code. \n",
    "\n",
    "We will score your report according to:\n",
    "\n",
    "* Reporting (30%): Are there clear research questions that you asked, and did you\n",
    "    address these in an orderly fashion? Did you make well justified\n",
    "    conclusions? Is your project sensible and easy to read?"
   ]
  },
  {
   "cell_type": "markdown",
   "id": "3da6a8fb",
   "metadata": {
    "slideshow": {
     "slide_type": "subslide"
    }
   },
   "source": [
    "* Data Processing (10%):  How much work was necessary to get your data and bring it in a format that is useful for further analysis. "
   ]
  },
  {
   "cell_type": "markdown",
   "id": "230b549a",
   "metadata": {
    "slideshow": {
     "slide_type": "subslide"
    }
   },
   "source": [
    "* Vizualisation and Methodology (40%): \n",
    "    Do your visualizations follow best practices? Do they support the hypothesis? \n",
    "    Is your methodology appropriate? \n",
    "    Does this give insight to your project? Are the methods tailored to your\n",
    "    specific topic and data (not generic or off-the-shelf)?"
   ]
  },
  {
   "cell_type": "markdown",
   "id": "84adbae2",
   "metadata": {
    "slideshow": {
     "slide_type": "subslide"
    }
   },
   "source": [
    "* Code (10%): Is your code well-organized and easy to read? Is your code\n",
    "    reproducible? Is your code documented? Is your code reasonably efficient?\n",
    "    Did you use appropriate data structures and algorithms?"
   ]
  },
  {
   "cell_type": "markdown",
   "id": "e54e29e3",
   "metadata": {
    "slideshow": {
     "slide_type": "slide"
    }
   },
   "source": [
    "Grading scales:\n",
    "\n",
    "Grade            | Points\n",
    "------------     | -------\n",
    "Good             | 10\n",
    "Satisfactory     | 8\n",
    "Poor             | 6\n",
    "Partial Work     | 4\n",
    "No Work          | 0"
   ]
  },
  {
   "cell_type": "markdown",
   "id": "0b4d8ce0",
   "metadata": {
    "slideshow": {
     "slide_type": "slide"
    }
   },
   "source": [
    "### Structure of `ggplot` function\n",
    "\n",
    "`ggplot2` is a package that allows for more flexibility in plotting compared to what is provided with base R. Furthermore, the package harmonizes with the `tidyverse` packages.  "
   ]
  },
  {
   "cell_type": "code",
   "execution_count": null,
   "id": "9e409f0b",
   "metadata": {
    "scrolled": true
   },
   "outputs": [],
   "source": [
    "# install.packages(\"ggplot2\")\n",
    "library(\"ggplot2\")"
   ]
  },
  {
   "cell_type": "markdown",
   "id": "dbe9f564",
   "metadata": {
    "slideshow": {
     "slide_type": "subslide"
    }
   },
   "source": [
    "The function `ggplot` creates a coordinate system that you can add layers to. The first argument is the dataset to use in the plot, it is of <kbd>data.frame</kbd> or <kbd>tibble</kbd> format. Consequently, \n",
    "`ggplot(data = mpg)` creates an empty graph. Here, `mpg` from the `ggplot2` package is simiilar to `mtcars`. "
   ]
  },
  {
   "cell_type": "code",
   "execution_count": null,
   "id": "be80f91c",
   "metadata": {
    "scrolled": true
   },
   "outputs": [],
   "source": [
    "str(mpg)"
   ]
  },
  {
   "cell_type": "code",
   "execution_count": null,
   "id": "8747ea63",
   "metadata": {
    "scrolled": true,
    "slideshow": {
     "slide_type": "-"
    }
   },
   "outputs": [],
   "source": [
    "table(mpg$drv)"
   ]
  },
  {
   "cell_type": "code",
   "execution_count": null,
   "id": "41e3930d",
   "metadata": {
    "scrolled": true,
    "slideshow": {
     "slide_type": "subslide"
    }
   },
   "outputs": [],
   "source": [
    "library(repr); options(repr.plot.width = 12, repr.plot.height = 12) # only necessary for jupyter, not R Studio"
   ]
  },
  {
   "cell_type": "code",
   "execution_count": null,
   "id": "40d80514",
   "metadata": {
    "scrolled": false
   },
   "outputs": [],
   "source": [
    "ggplot(data = mpg)"
   ]
  },
  {
   "cell_type": "markdown",
   "id": "891d27f1",
   "metadata": {
    "slideshow": {
     "slide_type": "subslide"
    }
   },
   "source": [
    "We complete the graphic by adding one or more layers to `ggplot`: \n",
    "`geom_`-type functions add a geometrical object to the plot (e.g. `geom_point` creates a scatterplot)."
   ]
  },
  {
   "cell_type": "code",
   "execution_count": null,
   "id": "8b7d11fa",
   "metadata": {
    "scrolled": false
   },
   "outputs": [],
   "source": [
    "ggplot(data = mpg, mapping = aes(x = displ, y = hwy)) + \n",
    "    geom_point()"
   ]
  },
  {
   "cell_type": "markdown",
   "id": "1a95fa1f",
   "metadata": {
    "slideshow": {
     "slide_type": "subslide"
    }
   },
   "source": [
    "Each geom function in `ggplot2` takes a mapping argument. This defines how variables in your dataset are mapped to visual properties. In the case above the mapping was provided within the `geom_point` function as `aes(...)`. "
   ]
  },
  {
   "cell_type": "markdown",
   "id": "c48f3feb",
   "metadata": {
    "slideshow": {
     "slide_type": "slide"
    }
   },
   "source": [
    "### `geom_`s\n",
    "\n",
    "Above, the `geom_point` function takes two argument, namely x- and y-value. Other geometrical object require more or less arguments. "
   ]
  },
  {
   "cell_type": "code",
   "execution_count": null,
   "id": "9f2f5ff9",
   "metadata": {
    "scrolled": false
   },
   "outputs": [],
   "source": [
    "ggplot(data = mpg, mapping = aes(displ))+\n",
    "  geom_histogram()"
   ]
  },
  {
   "cell_type": "code",
   "execution_count": null,
   "id": "125d7794",
   "metadata": {
    "scrolled": false,
    "slideshow": {
     "slide_type": "subslide"
    }
   },
   "outputs": [],
   "source": [
    "ggplot(data = mpg, mapping = aes(displ))+\n",
    "  geom_histogram(binwidth = 0.5)"
   ]
  },
  {
   "cell_type": "markdown",
   "id": "cbad62b6",
   "metadata": {
    "slideshow": {
     "slide_type": "fragment"
    }
   },
   "source": [
    "Note that the histogram is not scaled to a density, but displaying frequencies. We can change this by `y = ..density..`. Furthermore, the `geom_histogram` argument takes more arguments than `mapping`: "
   ]
  },
  {
   "cell_type": "code",
   "execution_count": null,
   "id": "cbad4da7",
   "metadata": {
    "scrolled": true,
    "slideshow": {
     "slide_type": "subslide"
    }
   },
   "outputs": [],
   "source": [
    "ggplot(data = mpg, mapping = aes(x = displ, y = ..density..)) +\n",
    "  geom_histogram(bins =15, fill = 2) # plot density "
   ]
  },
  {
   "cell_type": "markdown",
   "id": "ccbd6493",
   "metadata": {
    "slideshow": {
     "slide_type": "subslide"
    }
   },
   "source": [
    "Another one-dimensional mapping argument is taken by `geom_bar`: "
   ]
  },
  {
   "cell_type": "code",
   "execution_count": null,
   "id": "b7ed9cef",
   "metadata": {
    "scrolled": true
   },
   "outputs": [],
   "source": [
    "ggplot(data = mpg, mapping = aes(drv)) +\n",
    "  geom_bar(fill = 3)"
   ]
  },
  {
   "cell_type": "markdown",
   "id": "480139af",
   "metadata": {
    "slideshow": {
     "slide_type": "slide"
    }
   },
   "source": [
    "One graphic can display multiple geometrical objects: `geom_smooth` adds a regression line of the fit of a linear model regressing `x` onto `y`. The `se` argument adds confidence bands. "
   ]
  },
  {
   "cell_type": "code",
   "execution_count": null,
   "id": "d30296f0",
   "metadata": {
    "scrolled": true
   },
   "outputs": [],
   "source": [
    "ggplot(data = mpg, mapping = aes(x = displ, y = hwy)) +\n",
    "  geom_point() +\n",
    "  geom_smooth(method = \"lm\", se = F) "
   ]
  },
  {
   "cell_type": "markdown",
   "id": "3a29310c",
   "metadata": {
    "slideshow": {
     "slide_type": "slide"
    }
   },
   "source": [
    "### Global and local mappings\n",
    "\n",
    "\n",
    "All `geom_`-objects require a mapping argument. If its missing, the command will print an error. "
   ]
  },
  {
   "cell_type": "code",
   "execution_count": null,
   "id": "a2c7a6b6",
   "metadata": {
    "scrolled": true
   },
   "outputs": [],
   "source": [
    "ggplot(data = mpg, mapping = aes(x = class, y = hwy)) + \n",
    "  geom_boxplot()"
   ]
  },
  {
   "cell_type": "code",
   "execution_count": null,
   "id": "c62a2300",
   "metadata": {
    "scrolled": false
   },
   "outputs": [],
   "source": [
    "ggplot(data = mpg) + \n",
    "  geom_boxplot()"
   ]
  },
  {
   "cell_type": "markdown",
   "id": "5edab802",
   "metadata": {
    "slideshow": {
     "slide_type": "subslide"
    }
   },
   "source": [
    "Both `ggplot` and `geom_`-functions can take a mapping argument returned by `aes`. Up until now, we have provided the mapping within `ggplot`. All `geom_`-functions inherit the mapping argument provided in `ggplot`. \n",
    "\n",
    "Alternatively, the argument can provided at `geom_`-level. "
   ]
  },
  {
   "cell_type": "code",
   "execution_count": null,
   "id": "ed6e315a",
   "metadata": {
    "scrolled": true
   },
   "outputs": [],
   "source": [
    "ggplot(mpg) + \n",
    "  geom_boxplot(aes(x = class, y = hwy))"
   ]
  },
  {
   "cell_type": "markdown",
   "id": "145d6d0d",
   "metadata": {
    "slideshow": {
     "slide_type": "subslide"
    }
   },
   "source": [
    "The global mapping can be overwritten at local `geom_`-level."
   ]
  },
  {
   "cell_type": "code",
   "execution_count": null,
   "id": "2e0c0056",
   "metadata": {
    "scrolled": true
   },
   "outputs": [],
   "source": [
    "ggplot(data = mpg, mapping = aes(x = displ)) + \n",
    "  geom_boxplot(mapping = aes(x = class, y = hwy))"
   ]
  },
  {
   "cell_type": "markdown",
   "id": "839e0d29",
   "metadata": {
    "slideshow": {
     "slide_type": "subslide"
    }
   },
   "source": [
    "Multiple mappings are important if different geometrical objects are to be plotted. "
   ]
  },
  {
   "cell_type": "code",
   "execution_count": null,
   "id": "f760ff3b",
   "metadata": {
    "scrolled": true
   },
   "outputs": [],
   "source": [
    "ggplot(data = mpg, mapping = aes(x = displ, y = hwy)) +\n",
    "  geom_point(aes(color = drv)) +\n",
    "  geom_smooth(method = 'lm', se = FALSE)"
   ]
  },
  {
   "cell_type": "markdown",
   "id": "3abf8280",
   "metadata": {
    "slideshow": {
     "slide_type": "fragment"
    }
   },
   "source": [
    "Here, the `geom_point` function accesses both the globally provided `x` and `y` argument as well as the locally provided additional `color` aesthetic argument. The `geom_smooth` function only accesses `x` and `y`. If it were to be provided with `color` as well, a different object were to be plotted. "
   ]
  },
  {
   "cell_type": "code",
   "execution_count": null,
   "id": "223a490e",
   "metadata": {
    "scrolled": true,
    "slideshow": {
     "slide_type": "subslide"
    }
   },
   "outputs": [],
   "source": [
    "ggplot(data = mpg, mapping = aes(x = displ, y = hwy, color = class)) +\n",
    "  geom_point() +\n",
    "  geom_smooth(method = 'lm', se = F)"
   ]
  },
  {
   "cell_type": "markdown",
   "id": "1fdf75a6",
   "metadata": {
    "slideshow": {
     "slide_type": "slide"
    }
   },
   "source": [
    "### Coloring the graphic\n",
    "\n",
    "As we have seen before, `color` is both an optional aesthetic argument and `geom_`-argument. Here, the latter overwrites the former. "
   ]
  },
  {
   "cell_type": "code",
   "execution_count": null,
   "id": "6628ef90",
   "metadata": {
    "scrolled": true
   },
   "outputs": [],
   "source": [
    "ggplot(data = mpg, aes(x = displ, y = hwy, color = drv), color = 2) +\n",
    "  geom_point() + \n",
    "  geom_smooth(method = 'lm', se = F)"
   ]
  },
  {
   "cell_type": "markdown",
   "id": "4a6dcf95",
   "metadata": {
    "slideshow": {
     "slide_type": "subslide"
    }
   },
   "source": [
    "The difference in providing `color` within `aes` is that the coloring is depending on the provided value. If the color does not convey information about a variable, but only changes the appearance of the plot, it should be added outside the `aes`. "
   ]
  },
  {
   "cell_type": "code",
   "execution_count": null,
   "id": "e214295f",
   "metadata": {
    "scrolled": false
   },
   "outputs": [],
   "source": [
    "library(dplyr)\n",
    "mpg %>% \n",
    "    select(displ, hwy, drv) %>%\n",
    "    head()"
   ]
  },
  {
   "cell_type": "code",
   "execution_count": null,
   "id": "921e2011",
   "metadata": {
    "scrolled": true,
    "slideshow": {
     "slide_type": "subslide"
    }
   },
   "outputs": [],
   "source": [
    "ggplot(data = mpg, mapping = aes(x = displ, y = hwy, color = drv)) +\n",
    "  geom_point() "
   ]
  },
  {
   "cell_type": "markdown",
   "id": "cf371cbb",
   "metadata": {
    "slideshow": {
     "slide_type": "subslide"
    }
   },
   "source": [
    "In this case, `drv` contains additional information about each object. `drv` is (internally transformed to) a factor variable with three levels. Consequently, three colors are automatically assigned to the plot. These colors are evenly spaced around a HSL (hue, saturation, lightness) color circle."
   ]
  },
  {
   "cell_type": "code",
   "execution_count": null,
   "id": "72b444db",
   "metadata": {
    "scrolled": true,
    "slideshow": {
     "slide_type": "slide"
    }
   },
   "outputs": [],
   "source": [
    "printColor <- function(n) {\n",
    "  df <- tibble::tibble(\n",
    "    x = 1:n, \n",
    "    y = 1, \n",
    "    col = factor(x))\n",
    "  require(ggplot2)\n",
    "  ggplot(df) + \n",
    "    theme_void() + \n",
    "    theme(legend.position = \"none\") + \n",
    "    geom_point(aes(x, y, color = col), \n",
    "               size = 20, \n",
    "               shape = \"square\")\n",
    "}"
   ]
  },
  {
   "cell_type": "code",
   "execution_count": null,
   "id": "f3647e59",
   "metadata": {
    "scrolled": false
   },
   "outputs": [],
   "source": [
    "printColor(100) # set values up to, e.g., 200"
   ]
  },
  {
   "cell_type": "markdown",
   "id": "f1a37a93",
   "metadata": {
    "slideshow": {
     "slide_type": "subslide"
    }
   },
   "source": [
    "Although the evently spaced colors around the HSL color circle is sensible, the resulting colors are not color friendly. Custom palettes can be created via HEX color code. "
   ]
  },
  {
   "cell_type": "code",
   "execution_count": null,
   "id": "cb577e47",
   "metadata": {
    "scrolled": true
   },
   "outputs": [],
   "source": [
    "myPalette <- c(\"#E69F00\", \"#56B4E9\", \"#009E73\")\n",
    "ggplot(data = mpg, mapping = aes(x = displ, y = hwy, color = drv)) +\n",
    "    scale_color_manual(values = myPalette) + \n",
    "    geom_point() "
   ]
  },
  {
   "cell_type": "markdown",
   "id": "376cab6f",
   "metadata": {
    "slideshow": {
     "slide_type": "fragment"
    }
   },
   "source": [
    "If, instead of `color`, the `fill` argument of `aes` is used, the manual color command is `scale_fill_manual`. "
   ]
  },
  {
   "cell_type": "markdown",
   "id": "64df3787",
   "metadata": {
    "slideshow": {
     "slide_type": "subslide"
    }
   },
   "source": [
    "Just as if we set `n = 200` above in `printColor`, if the underlying argument passed to `aes` is not discrete, a continious color scheme is not appropriate. "
   ]
  },
  {
   "cell_type": "code",
   "execution_count": null,
   "id": "3a0530af",
   "metadata": {
    "scrolled": true
   },
   "outputs": [],
   "source": [
    "ggplot(data = mpg, mapping = aes(x = displ, y = hwy, color = hwy)) +\n",
    "  geom_point() "
   ]
  },
  {
   "cell_type": "markdown",
   "id": "e1190ff7",
   "metadata": {
    "slideshow": {
     "slide_type": "slide"
    }
   },
   "source": [
    "There are a variety of good continuous color schemes. We'll use `viridis` in connection with `geom_hex`. "
   ]
  },
  {
   "cell_type": "code",
   "execution_count": null,
   "id": "b97df7d5",
   "metadata": {
    "scrolled": true
   },
   "outputs": [],
   "source": [
    "library(\"hexbin\")\n",
    "library(\"viridis\")"
   ]
  },
  {
   "cell_type": "markdown",
   "id": "e1af9452",
   "metadata": {
    "slideshow": {
     "slide_type": "subslide"
    }
   },
   "source": [
    "Consider the synthetic data frame generated in the last lecture. "
   ]
  },
  {
   "cell_type": "code",
   "execution_count": null,
   "id": "34f791dd",
   "metadata": {
    "scrolled": true
   },
   "outputs": [],
   "source": [
    "df <- data.frame(matrix(rnorm(10000, 0, 1), nc = 2) %*% matrix(c(1,0.5, 0.5, 1), 2, 2))\n",
    "ggplot(df) +\n",
    "    coord_fixed() + scale_fill_viridis() + \n",
    "    geom_hex(mapping = aes(x = X1, y = X2)) "
   ]
  },
  {
   "cell_type": "markdown",
   "id": "3595129e",
   "metadata": {
    "slideshow": {
     "slide_type": "subslide"
    }
   },
   "source": [
    "Here, the `fill` aesthetic is automatically supplied by the internally computed `count` variable. Proper two-dimensional density plot can be created using `stat_density_2d`. "
   ]
  },
  {
   "cell_type": "code",
   "execution_count": null,
   "id": "a50c6268",
   "metadata": {
    "scrolled": true,
    "slideshow": {
     "slide_type": "subslide"
    }
   },
   "outputs": [],
   "source": [
    "ggplot(faithful, aes(eruptions, waiting)) + \n",
    "  scale_fill_viridis() + \n",
    "  theme(legend.position = \"none\") + \n",
    "  stat_density_2d(aes(fill = ..density..), geom = \"raster\", contour = FALSE) "
   ]
  },
  {
   "cell_type": "markdown",
   "id": "dd2f960a",
   "metadata": {
    "slideshow": {
     "slide_type": "subslide"
    }
   },
   "source": [
    "The `..density..` argument has been seen before. Here, it fills the plot by relative frequency. The use of a `stat_` function instead of `geom_` is because we do not simply plot a geometrical object, but compute a statistical transformation (here: density estimation) first. "
   ]
  },
  {
   "cell_type": "markdown",
   "id": "07ef9f21",
   "metadata": {
    "slideshow": {
     "slide_type": "slide"
    }
   },
   "source": [
    "### Exercises\n",
    "\n",
    "Consider the following data set where you want to create two boxplots given variable `x`, and additionally split by `z`. You thus expect two boxplots for A (one corresponding to b=1 and one to b=2) and two boxplots for B (one for b=1 and one for b=2).\n",
    "Why this code is only generating two boxplots?"
   ]
  },
  {
   "cell_type": "code",
   "execution_count": null,
   "id": "9c90cb3c",
   "metadata": {
    "scrolled": true
   },
   "outputs": [],
   "source": [
    "set.seed(2022)\n",
    "df = data.frame(x = sample(c(\"A\",\"B\"), 40, replace = T),\n",
    "                y = sample(1:2, 40, replace = T),\n",
    "                z = rnorm(80))\n",
    "\n",
    "ggplot(data = df, aes(x = x, y = z, fill = x)) +\n",
    "    geom_boxplot()"
   ]
  }
 ],
 "metadata": {
  "celltoolbar": "Slideshow",
  "kernelspec": {
   "display_name": "R",
   "language": "R",
   "name": "ir"
  },
  "language_info": {
   "codemirror_mode": "r",
   "file_extension": ".r",
   "mimetype": "text/x-r-source",
   "name": "R",
   "pygments_lexer": "r",
   "version": "4.3.1"
  },
  "rise": {
   "progress": true,
   "scroll": true,
   "theme": "white"
  }
 },
 "nbformat": 4,
 "nbformat_minor": 5
}
