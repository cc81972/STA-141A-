{
 "cells": [
  {
   "cell_type": "markdown",
   "id": "ff704263",
   "metadata": {
    "slideshow": {
     "slide_type": "slide"
    }
   },
   "source": [
    "# STA 141A Fundamentals of Statistical Data Science\n",
    "\n",
    "### Lecture 1, 9/28/23, Basics of R"
   ]
  },
  {
   "cell_type": "markdown",
   "id": "522b9f25",
   "metadata": {
    "slideshow": {
     "slide_type": "slide"
    }
   },
   "source": [
    "### Today's topics\n",
    "\n",
    "<style>\n",
    "    font-size: 40x;\n",
    "</style>\n",
    "\n",
    "- Course Organization\n",
    "- Statistical Computing\n",
    "- Basics of R\n",
    "- Data classes  \n",
    "- Vectors"
   ]
  },
  {
   "cell_type": "markdown",
   "id": "4f4d634f",
   "metadata": {
    "slideshow": {
     "slide_type": "slide"
    }
   },
   "source": [
    "### Course Organization\n",
    "\n",
    "This course is an introduction to statistical programming with <tt>R</tt>. \n",
    "It covers the basics of data processing, fundamentals of data analysis, and important extensions. \n",
    "Upon completion of the course, you will be able to implement sophisticated methods that you will learn as you continue your studies. The course consists of three parts: \n",
    "\n",
    "1. Basics of R\n",
    "2. Regression analysis with R\n",
    "3. Selected topics in statistical computing"
   ]
  },
  {
   "cell_type": "markdown",
   "id": "a01bdbdb",
   "metadata": {
    "slideshow": {
     "slide_type": "slide"
    }
   },
   "source": [
    "The final grade is determined by \n",
    "- eight homeworks (15%),\n",
    "- two exams on October 19th and November 21st (each 25%),\n",
    "- project due December 15th (35%).\n",
    "\n",
    "For comprehensive information about the course, please consult [Canvas](https://canvas.ucdavis.edu/courses/815764). "
   ]
  },
  {
   "cell_type": "markdown",
   "id": "a63c282d",
   "metadata": {
    "slideshow": {
     "slide_type": "slide"
    }
   },
   "source": [
    "The project will be collaborative work with three to five group members. You will procure a data set, develop a research question you intend to answer, and showcase methods covered in this class. \n",
    "\n",
    "[Kaggle](https://www.kaggle.com/datasets) will help you to come up with good data sets and ideas. \n",
    "\n",
    "The groups have to be formed by October 20th. A project proposal is due November 4th. "
   ]
  },
  {
   "cell_type": "markdown",
   "id": "0ef2316b",
   "metadata": {
    "slideshow": {
     "slide_type": "slide"
    }
   },
   "source": [
    "#### Ethics\n",
    "\n",
    "This is a programming class. Using assistance is part of programming and is encouraged. This can be AI based, or from online sources (e.g., [stackoverflow](https://stackoverflow.com/questions)). \n",
    "\n",
    "However, you will be graded by your proficiency in coding. In all assignments, make sure that you display your own contribution. Submitting AI generated code, answers from online sources, or even classmates' solutions will not be enough to pass the course. Furthermore, if you pass off someone else's work as your own, then you are engaging in academic misconduct. \n"
   ]
  },
  {
   "cell_type": "markdown",
   "id": "7ef85869",
   "metadata": {
    "slideshow": {
     "slide_type": "slide"
    }
   },
   "source": [
    "All material of this course will be made available online on Canvas and Piazza. Use the latter for any inquiries regarding organization, homework or lectures. \n",
    "\n",
    "Office hours: \n",
    "* Peter Kramlinger: T 10:45-11:45 AM, MSB 1143\n",
    "* Emily Chang: \tR 11 AM-12 PM, MSB 1117\n",
    "* Pranash Ramesh: T.B.A."
   ]
  },
  {
   "cell_type": "markdown",
   "id": "27208d95",
   "metadata": {
    "slideshow": {
     "slide_type": "slide"
    }
   },
   "source": [
    "### Statistical Computing: Overview \n",
    "\n",
    "Modern statistical theory is heavily reliant on numerical procedures. This includes bootstrapping, random number generation (RNG) or neural networks [\\[Gelman & Vehtari, 2021\\]](https://arxiv.org/pdf/2012.00174.pdf). Often, these methods have to be tailored to be problem specific. This constitutes the need for a statistician to be able to code in a versatile programming language. "
   ]
  },
  {
   "cell_type": "markdown",
   "id": "27f78f4f",
   "metadata": {
    "slideshow": {
     "slide_type": "fragment"
    }
   },
   "source": [
    "On the other hand, statistical methods are applied to real data sets. These have to be cleaned, processed and understood prior to be worked on. Therefore, a statistician needs to be able to easily access such tools. \n",
    "\n",
    "R is a statistical programming language which compromises between these two main requirements. "
   ]
  },
  {
   "cell_type": "markdown",
   "id": "f1327657",
   "metadata": {
    "slideshow": {
     "slide_type": "slide"
    }
   },
   "source": [
    "This need for exploratory data analysis sparked the developement of a statistical programming language <tt>S</tt> in the 70s. [R](https://www.r-project.org/) is its very successful successor. It is an intuitive language that is forgiving to beginners and often requires little effort to accomplish statistical tasks. \n",
    "\n",
    "The freely available R distribution and many extensions (called *packages*), are available on [CRAN](https://cran.r-project.org/) (Comprehensive R Archive Network). "
   ]
  },
  {
   "cell_type": "markdown",
   "id": "fcf2beb0",
   "metadata": {
    "slideshow": {
     "slide_type": "fragment"
    }
   },
   "source": [
    "You can run R from the command line. However, we very much recommend to use the free intergrated developement environment [R Studio](https://posit.co/download/rstudio-desktop/). It will help you running code, producing visualizations, creating markdowns and building your own package. "
   ]
  },
  {
   "cell_type": "markdown",
   "id": "c9773a33",
   "metadata": {
    "slideshow": {
     "slide_type": "slide"
    }
   },
   "source": [
    "<p align=\"center\"> \n",
    "    <img src=\"../source/01-RStudio.png\" alt=\"R Studio\"\"/>\n",
    "</p>"
   ]
  },
  {
   "cell_type": "markdown",
   "id": "23361391",
   "metadata": {
    "slideshow": {
     "slide_type": "slide"
    }
   },
   "source": [
    "In the editor, to execute the single line at which the cursor is at (or a marked chunk of code), hit <kbd>Ctrl</kbd> + <kbd>Enter</kbd> on Windows or  <kbd>&#8984;</kbd> + <kbd>return</kbd> on Mac. "
   ]
  },
  {
   "cell_type": "markdown",
   "id": "2b557cba",
   "metadata": {
    "slideshow": {
     "slide_type": "fragment"
    }
   },
   "source": [
    "In this lecture, I will run code via Jupyter notebook slides. You will need  [Jupyter notebook](https://jupyter.org/) to complete the homework. \n",
    "\n",
    "Note that UC Davis offers [Jupyter lab](https://jupyter.libretexts.org/hub/login) to run notebooks online. This service is not maintained by the Department of Statistics and we cannot guarantee its reliability. "
   ]
  },
  {
   "cell_type": "markdown",
   "id": "cfb23a7c",
   "metadata": {
    "slideshow": {
     "slide_type": "slide"
    }
   },
   "source": [
    "R can be used as a simple calculator:"
   ]
  },
  {
   "cell_type": "code",
   "execution_count": null,
   "id": "8cf3c3fd",
   "metadata": {
    "slideshow": {
     "slide_type": "-"
    }
   },
   "outputs": [],
   "source": [
    "1 + 3\n",
    "5 - 1\n",
    "2 * 2\n",
    "2^2 \n",
    "8 / 2\n",
    "(1 + 12 / 4)^(3 + 2) / 16^2\n",
    "9 %% 5 # modulo operation"
   ]
  },
  {
   "cell_type": "markdown",
   "id": "a021b3a4",
   "metadata": {
    "slideshow": {
     "slide_type": "slide"
    }
   },
   "source": [
    "More complex computations require us to save values to variables. This can be done with the assignment operator `<-` or `=`. `<-` is displayed on Windows via <kbd>Alt</kbd> + <kbd>-</kbd>, on Mac via <kbd>&#8997;</kbd> + <kbd>-</kbd>. \n",
    "Allowed variable names may include numbers, `_` and `.`, but no other special characters. "
   ]
  },
  {
   "cell_type": "code",
   "execution_count": null,
   "id": "c9849c8e",
   "metadata": {},
   "outputs": [],
   "source": [
    "x <- 4 \n",
    "y <- 5 \n",
    "z.0 = z_star = y - x \n",
    "z.0 = 3"
   ]
  },
  {
   "cell_type": "markdown",
   "id": "383becc5",
   "metadata": {
    "slideshow": {
     "slide_type": "-"
    }
   },
   "source": [
    "They are available in the workspace (*environment*) and can be retrieved by: "
   ]
  },
  {
   "cell_type": "code",
   "execution_count": null,
   "id": "3497ce18",
   "metadata": {},
   "outputs": [],
   "source": [
    "z.0\n",
    "z_star"
   ]
  },
  {
   "cell_type": "code",
   "execution_count": null,
   "id": "75464ecd",
   "metadata": {
    "slideshow": {
     "slide_type": "slide"
    }
   },
   "outputs": [],
   "source": [
    "x + y"
   ]
  },
  {
   "cell_type": "code",
   "execution_count": null,
   "id": "b518e44c",
   "metadata": {
    "slideshow": {
     "slide_type": "-"
    }
   },
   "outputs": [],
   "source": [
    "x + 3"
   ]
  },
  {
   "cell_type": "code",
   "execution_count": null,
   "id": "dd4447da",
   "metadata": {
    "slideshow": {
     "slide_type": "-"
    }
   },
   "outputs": [],
   "source": [
    "X # case sensitivity, throws an error!"
   ]
  },
  {
   "cell_type": "markdown",
   "id": "16fdbeea",
   "metadata": {
    "slideshow": {
     "slide_type": "slide"
    }
   },
   "source": [
    "The mathematical operations used above `+`, `*`, ect. are functions mapping real values to real values. A plethora of other functions is build in <tt>R</tt> as well. "
   ]
  },
  {
   "cell_type": "code",
   "execution_count": null,
   "id": "563c62c0",
   "metadata": {},
   "outputs": [],
   "source": [
    "sqrt(4)\n",
    "exp(0)\n",
    "log(z.0) # z.0 = 1"
   ]
  },
  {
   "cell_type": "code",
   "execution_count": null,
   "id": "af8f9e0d",
   "metadata": {},
   "outputs": [],
   "source": [
    "log(0)\n",
    "log(-1) # NaN = not a number, this command throws a warning"
   ]
  },
  {
   "cell_type": "code",
   "execution_count": null,
   "id": "021f2f00",
   "metadata": {
    "scrolled": false,
    "slideshow": {
     "slide_type": "slide"
    }
   },
   "outputs": [],
   "source": [
    "sin(0)\n",
    "sin(pi) # the variable pi is build-in as well"
   ]
  },
  {
   "cell_type": "markdown",
   "id": "f12fb6f4",
   "metadata": {
    "slideshow": {
     "slide_type": "slide"
    }
   },
   "source": [
    "Information about the functions can be accessed \n"
   ]
  },
  {
   "cell_type": "code",
   "execution_count": null,
   "id": "6ed70ba5",
   "metadata": {},
   "outputs": [],
   "source": [
    "?factorial # prints information about the function"
   ]
  },
  {
   "cell_type": "code",
   "execution_count": null,
   "id": "0a5bf6ed",
   "metadata": {},
   "outputs": [],
   "source": [
    "factorial(5)\n",
    "5 * 4 * 3 * 2 \n",
    "prod(1:5)\n",
    "factorial(x = 5) # within a function, the assignment operator <- must not be used!"
   ]
  },
  {
   "cell_type": "markdown",
   "id": "ace70771",
   "metadata": {
    "slideshow": {
     "slide_type": "slide"
    }
   },
   "source": [
    "What if we use ` <- ` within a function? "
   ]
  },
  {
   "cell_type": "code",
   "execution_count": null,
   "id": "557086fc",
   "metadata": {
    "slideshow": {
     "slide_type": "-"
    }
   },
   "outputs": [],
   "source": [
    "z"
   ]
  },
  {
   "cell_type": "code",
   "execution_count": null,
   "id": "1f1b7739",
   "metadata": {
    "slideshow": {
     "slide_type": "-"
    }
   },
   "outputs": [],
   "source": [
    "factorial(z <- 3)"
   ]
  },
  {
   "cell_type": "code",
   "execution_count": null,
   "id": "4bac947d",
   "metadata": {
    "slideshow": {
     "slide_type": "-"
    }
   },
   "outputs": [],
   "source": [
    "z"
   ]
  },
  {
   "cell_type": "markdown",
   "id": "c3d4172a",
   "metadata": {
    "slideshow": {
     "slide_type": "fragment"
    }
   },
   "source": [
    "Its not immediately clear that a variable assignment has taken place. This is bad practice and should be avoided! "
   ]
  },
  {
   "cell_type": "markdown",
   "id": "0a8ce0a3",
   "metadata": {
    "slideshow": {
     "slide_type": "slide"
    }
   },
   "source": [
    "The value of a variable can be printed by calling the variable in the console. Printing outside the global environment can be done using `print`. This is very useful for debugging. "
   ]
  },
  {
   "cell_type": "code",
   "execution_count": null,
   "id": "c02c6473",
   "metadata": {},
   "outputs": [],
   "source": [
    "z_star \n",
    "print(z_star) # the [i] indicates the i-th line of the output"
   ]
  },
  {
   "cell_type": "markdown",
   "id": "7045e11a",
   "metadata": {
    "slideshow": {
     "slide_type": "slide"
    }
   },
   "source": [
    "There are other non-mathematical basic functions you should know. E.g., you can list all objects in the enviroment (e.g. variables, custom functions): "
   ]
  },
  {
   "cell_type": "code",
   "execution_count": null,
   "id": "c8afbd4e",
   "metadata": {},
   "outputs": [],
   "source": [
    "ls()"
   ]
  },
  {
   "cell_type": "markdown",
   "id": "cabfe635",
   "metadata": {},
   "source": [
    "Object can be deleted from the environment by calling `rm`. "
   ]
  },
  {
   "cell_type": "code",
   "execution_count": null,
   "id": "6bd9d132",
   "metadata": {},
   "outputs": [],
   "source": [
    "rm(z.0, z_star)\n",
    "ls()"
   ]
  },
  {
   "cell_type": "markdown",
   "id": "5468af53",
   "metadata": {
    "slideshow": {
     "slide_type": "slide"
    }
   },
   "source": [
    "Any objects can be saved with and retrieved with `save` and `load`. "
   ]
  },
  {
   "cell_type": "code",
   "execution_count": null,
   "id": "a370adf1",
   "metadata": {},
   "outputs": [],
   "source": [
    "save(x, y, file = \"../source/example.RData\")\n",
    "rm(list=ls()) # removes everything, check ?rm\n",
    "ls()"
   ]
  },
  {
   "cell_type": "code",
   "execution_count": null,
   "id": "ebc9f748",
   "metadata": {},
   "outputs": [],
   "source": [
    "x"
   ]
  },
  {
   "cell_type": "code",
   "execution_count": null,
   "id": "62ce0d68",
   "metadata": {},
   "outputs": [],
   "source": [
    "load(\"../source/example.RData\") # loads \n",
    "ls()\n",
    "x\n",
    "y"
   ]
  },
  {
   "cell_type": "markdown",
   "id": "6cc62395",
   "metadata": {
    "scrolled": true,
    "slideshow": {
     "slide_type": "slide"
    }
   },
   "source": [
    "You can navigate from your *working directory* using standard command line syntax. "
   ]
  },
  {
   "cell_type": "code",
   "execution_count": null,
   "id": "798bd5a3",
   "metadata": {},
   "outputs": [],
   "source": [
    "getwd() # displays the current working directory"
   ]
  },
  {
   "cell_type": "code",
   "execution_count": null,
   "id": "dc413f93",
   "metadata": {},
   "outputs": [],
   "source": [
    "setwd(\"../\") # set the path in quotation marks; the \"..\" goes to the upper folder\n",
    "getwd()"
   ]
  },
  {
   "cell_type": "code",
   "execution_count": null,
   "id": "226635b1",
   "metadata": {
    "scrolled": true
   },
   "outputs": [],
   "source": [
    "setwd(\"./lectures\") # \".\" marks the current directory\n",
    "getwd()"
   ]
  },
  {
   "cell_type": "markdown",
   "id": "64b80536",
   "metadata": {
    "slideshow": {
     "slide_type": "slide"
    }
   },
   "source": [
    "### Data classes \n",
    "\n",
    "In R, there are five common basic data classes: <kbd>integer</kbd>, <kbd>numeric</kbd>, <kbd>complex</kbd>, <kbd>logical</kbd> (`TRUE`/`FALSE`), <kbd>character</kbd>. \n",
    "We can check the data type with the function `class`. `str` displays the value and class (i.e., structure) of an object. "
   ]
  },
  {
   "cell_type": "code",
   "execution_count": null,
   "id": "3791e462",
   "metadata": {},
   "outputs": [],
   "source": [
    "x <- 4\n",
    "class(x) # outputs the string 'numeric'"
   ]
  },
  {
   "cell_type": "code",
   "execution_count": null,
   "id": "3cd97014",
   "metadata": {},
   "outputs": [],
   "source": [
    "str(x) # displays class abbreviation and value"
   ]
  },
  {
   "cell_type": "markdown",
   "id": "ca22417a",
   "metadata": {
    "slideshow": {
     "slide_type": "slide"
    }
   },
   "source": [
    "Note that although `x` is an integer, it is coded as numeric. To force a variable to be of integer type, we have to explicitly state: "
   ]
  },
  {
   "cell_type": "code",
   "execution_count": null,
   "id": "88195e80",
   "metadata": {},
   "outputs": [],
   "source": [
    "y <- 4L\n",
    "z <- as.integer(x)\n",
    "class(y)\n",
    "class(z)"
   ]
  },
  {
   "cell_type": "markdown",
   "id": "770c68ae",
   "metadata": {
    "slideshow": {
     "slide_type": "slide"
    }
   },
   "source": [
    "Contrary to many other programming languages, re-assigning a different data type to a variable is not a problem in R. "
   ]
  },
  {
   "cell_type": "code",
   "execution_count": null,
   "id": "b29c50d3",
   "metadata": {},
   "outputs": [],
   "source": [
    "x <- 3L\n",
    "class(x)"
   ]
  },
  {
   "cell_type": "code",
   "execution_count": null,
   "id": "e97c8990",
   "metadata": {},
   "outputs": [],
   "source": [
    "x <- x + 3i\n",
    "class(x)"
   ]
  },
  {
   "cell_type": "markdown",
   "id": "0f18b0d5",
   "metadata": {
    "slideshow": {
     "slide_type": "slide"
    }
   },
   "source": [
    "The <kbd>logical</kbd> data type is useful for boolean operations.  "
   ]
  },
  {
   "cell_type": "code",
   "execution_count": null,
   "id": "3c29c5b6",
   "metadata": {},
   "outputs": [],
   "source": [
    "4 == 3 # EQUAL"
   ]
  },
  {
   "cell_type": "code",
   "execution_count": null,
   "id": "be5af2be",
   "metadata": {},
   "outputs": [],
   "source": [
    "4 > 3 # GREATER "
   ]
  },
  {
   "cell_type": "code",
   "execution_count": null,
   "id": "4d7a11ac",
   "metadata": {},
   "outputs": [],
   "source": [
    "3 >= 3 # GREATER OR EQUAL"
   ]
  },
  {
   "cell_type": "code",
   "execution_count": null,
   "id": "ed178a21",
   "metadata": {
    "slideshow": {
     "slide_type": "slide"
    }
   },
   "outputs": [],
   "source": [
    "3 != 3 # NOT EQUAL"
   ]
  },
  {
   "cell_type": "code",
   "execution_count": null,
   "id": "f7e229c2",
   "metadata": {},
   "outputs": [],
   "source": [
    "!TRUE # NEGATION"
   ]
  },
  {
   "cell_type": "code",
   "execution_count": null,
   "id": "62cf1017",
   "metadata": {},
   "outputs": [],
   "source": [
    "x <- (3 >= 8) & !(3 > 2) # AND\n",
    "str(x)"
   ]
  },
  {
   "cell_type": "markdown",
   "id": "4aad2411",
   "metadata": {
    "slideshow": {
     "slide_type": "slide"
    }
   },
   "source": [
    "Instead of `TRUE` and `FALSE` one may use `T` and `F`. "
   ]
  },
  {
   "cell_type": "code",
   "execution_count": null,
   "id": "1b561ca7",
   "metadata": {},
   "outputs": [],
   "source": [
    "y <- T # same as y <- TRUE"
   ]
  },
  {
   "cell_type": "code",
   "execution_count": null,
   "id": "bb3b679c",
   "metadata": {},
   "outputs": [],
   "source": [
    "y & x # AND \n",
    "y | x # OR"
   ]
  },
  {
   "cell_type": "markdown",
   "id": "0b61b261",
   "metadata": {
    "slideshow": {
     "slide_type": "slide"
    }
   },
   "source": [
    "<kbd>Character</kbd> strings are generated by using either `\"\"` or `''`. "
   ]
  },
  {
   "cell_type": "code",
   "execution_count": null,
   "id": "ab0d4109",
   "metadata": {},
   "outputs": [],
   "source": [
    "\"Hello World!\""
   ]
  },
  {
   "cell_type": "code",
   "execution_count": null,
   "id": "fe03e4bb",
   "metadata": {},
   "outputs": [],
   "source": [
    "paste('Hello', 'World!')"
   ]
  },
  {
   "cell_type": "code",
   "execution_count": null,
   "id": "867055e6",
   "metadata": {},
   "outputs": [],
   "source": [
    "paste0('This is a gr', 8, \" lecture!\") # note the extra space!"
   ]
  },
  {
   "cell_type": "markdown",
   "id": "bee0991e",
   "metadata": {
    "slideshow": {
     "slide_type": "slide"
    }
   },
   "source": [
    "Missing values are coded either as `NaN` (not a number, cf. Lecture 1) or `NA` (not available). "
   ]
  },
  {
   "cell_type": "code",
   "execution_count": null,
   "id": "1f8d528e",
   "metadata": {
    "scrolled": true
   },
   "outputs": [],
   "source": [
    "x <- NA\n",
    "str(x)"
   ]
  },
  {
   "cell_type": "markdown",
   "id": "b0bd0972",
   "metadata": {
    "slideshow": {
     "slide_type": "slide"
    }
   },
   "source": [
    "#### Vectors\n",
    "\n",
    "Vectors are very common objects used in R. It is a single entity collection of values. Usually, they are created with the `c` function, which concatenates values into a vector. Alternatively, several build in functions output a vector object.  "
   ]
  },
  {
   "cell_type": "code",
   "execution_count": null,
   "id": "eda3b3d1",
   "metadata": {},
   "outputs": [],
   "source": [
    "c(5,1,2,3,4,2) # concatenate values"
   ]
  },
  {
   "cell_type": "code",
   "execution_count": null,
   "id": "5047484a",
   "metadata": {},
   "outputs": [],
   "source": [
    "1:6 # sequence with difference 1"
   ]
  },
  {
   "cell_type": "code",
   "execution_count": null,
   "id": "320e0034",
   "metadata": {},
   "outputs": [],
   "source": [
    "seq(from = 1, to = 12, by = 2) # ?seq, same as seq(1, 10, 2) "
   ]
  },
  {
   "cell_type": "code",
   "execution_count": null,
   "id": "bcf2b57b",
   "metadata": {
    "slideshow": {
     "slide_type": "-"
    }
   },
   "outputs": [],
   "source": [
    "seq(1, 12, 2)"
   ]
  },
  {
   "cell_type": "code",
   "execution_count": null,
   "id": "9724f91f",
   "metadata": {
    "slideshow": {
     "slide_type": "-"
    }
   },
   "outputs": [],
   "source": [
    "seq(1, 6, len = 4) # specify length of output instead "
   ]
  },
  {
   "cell_type": "code",
   "execution_count": null,
   "id": "19793332",
   "metadata": {},
   "outputs": [],
   "source": [
    "seq(1, 6, by = 1) # specify length of output instead of difference # same as seq(1, 5, l = 6)"
   ]
  },
  {
   "cell_type": "code",
   "execution_count": null,
   "id": "5ae90982",
   "metadata": {
    "slideshow": {
     "slide_type": "-"
    }
   },
   "outputs": [],
   "source": [
    "rep(c(1,2,3), each = 2) # ?rep, repeat each input element two times"
   ]
  },
  {
   "cell_type": "markdown",
   "id": "b185eff8",
   "metadata": {
    "slideshow": {
     "slide_type": "slide"
    }
   },
   "source": [
    "#### Summary statistics\n",
    "\n",
    "The argument `na.rm = TRUE` removes `NA`-entries before processing. "
   ]
  },
  {
   "cell_type": "code",
   "execution_count": null,
   "id": "563e5f3f",
   "metadata": {},
   "outputs": [],
   "source": [
    "x <- c(5, pi, -6, 2.4, 2L, 1, 12, 99, NA)\n",
    "length(x)\n",
    "min(x, na.rm = TRUE)\n",
    "median(x, na.rm = TRUE)\n",
    "mean(x, na.rm = TRUE)\n",
    "max(x, na.rm = TRUE)\n",
    "quantile(x, c(0.25, 0.75), na.rm = TRUE)"
   ]
  },
  {
   "cell_type": "code",
   "execution_count": null,
   "id": "ef1aad88",
   "metadata": {
    "slideshow": {
     "slide_type": "slide"
    }
   },
   "outputs": [],
   "source": [
    "summary(x, na.rm = TRUE)"
   ]
  },
  {
   "cell_type": "code",
   "execution_count": null,
   "id": "48bbccf6",
   "metadata": {},
   "outputs": [],
   "source": [
    "sd(x, na.rm = TRUE)"
   ]
  },
  {
   "cell_type": "code",
   "execution_count": null,
   "id": "8392778e",
   "metadata": {},
   "outputs": [],
   "source": [
    "sd"
   ]
  },
  {
   "cell_type": "code",
   "execution_count": null,
   "id": "0f1bcbce",
   "metadata": {},
   "outputs": [],
   "source": [
    "sqrt(var(x, na.rm = TRUE))"
   ]
  },
  {
   "cell_type": "markdown",
   "id": "97194215",
   "metadata": {
    "slideshow": {
     "slide_type": "slide"
    }
   },
   "source": [
    "Alternatively, you can perform arithmetic operations on the vector itself."
   ]
  },
  {
   "cell_type": "code",
   "execution_count": null,
   "id": "2f5ed806",
   "metadata": {},
   "outputs": [],
   "source": [
    "x"
   ]
  },
  {
   "cell_type": "code",
   "execution_count": null,
   "id": "07caee99",
   "metadata": {},
   "outputs": [],
   "source": [
    "x + 1"
   ]
  },
  {
   "cell_type": "code",
   "execution_count": null,
   "id": "548e0f23",
   "metadata": {},
   "outputs": [],
   "source": [
    "x + rep(c(7,4,4), times = 3)"
   ]
  },
  {
   "cell_type": "code",
   "execution_count": null,
   "id": "7ac248a5",
   "metadata": {
    "slideshow": {
     "slide_type": "slide"
    }
   },
   "outputs": [],
   "source": [
    "x + c(1,2) # throws warning, but still gives output! "
   ]
  },
  {
   "cell_type": "code",
   "execution_count": null,
   "id": "f2ea861e",
   "metadata": {},
   "outputs": [],
   "source": [
    "x^2"
   ]
  },
  {
   "cell_type": "code",
   "execution_count": null,
   "id": "1451267b",
   "metadata": {},
   "outputs": [],
   "source": [
    "x[3] = 3\n",
    "sqrt(x)\n",
    "log(x)"
   ]
  },
  {
   "cell_type": "markdown",
   "id": "e7f4e473",
   "metadata": {
    "slideshow": {
     "slide_type": "slide"
    }
   },
   "source": [
    "#### Combinatorics"
   ]
  },
  {
   "cell_type": "code",
   "execution_count": null,
   "id": "27c7eafc",
   "metadata": {},
   "outputs": [],
   "source": [
    "x[3] = -6\n",
    "x"
   ]
  },
  {
   "cell_type": "code",
   "execution_count": null,
   "id": "8bd7adaa",
   "metadata": {},
   "outputs": [],
   "source": [
    "sort(x) # ?sort"
   ]
  },
  {
   "cell_type": "code",
   "execution_count": null,
   "id": "990732bc",
   "metadata": {},
   "outputs": [],
   "source": [
    "order(x) # ?order"
   ]
  },
  {
   "cell_type": "code",
   "execution_count": null,
   "id": "fc80256a",
   "metadata": {},
   "outputs": [],
   "source": [
    "x[order(x)]"
   ]
  },
  {
   "cell_type": "code",
   "execution_count": null,
   "id": "3a5fd00e",
   "metadata": {
    "slideshow": {
     "slide_type": "slide"
    }
   },
   "outputs": [],
   "source": [
    "rev(x) # check ?rev"
   ]
  },
  {
   "cell_type": "code",
   "execution_count": null,
   "id": "926648ce",
   "metadata": {
    "slideshow": {
     "slide_type": "-"
    }
   },
   "outputs": [],
   "source": [
    "set.seed(123) # setting the seed allows replication of pseudo-random results\n",
    "sample(x, size = 5, replace = TRUE) # -6 is sampled twice! "
   ]
  },
  {
   "cell_type": "markdown",
   "id": "67b2d90e",
   "metadata": {
    "slideshow": {
     "slide_type": "slide"
    }
   },
   "source": [
    "#### Subsetting Vectors\n",
    "\n",
    "Elements in vectors can be accessed via squared brackets `[...]`. Contrary to the programming language Python, the first element is indexed with `1`. \n"
   ]
  },
  {
   "cell_type": "code",
   "execution_count": null,
   "id": "e5e11848",
   "metadata": {},
   "outputs": [],
   "source": [
    "x"
   ]
  },
  {
   "cell_type": "code",
   "execution_count": null,
   "id": "57e7252f",
   "metadata": {},
   "outputs": [],
   "source": [
    "x[5]"
   ]
  },
  {
   "cell_type": "code",
   "execution_count": null,
   "id": "eee384e3",
   "metadata": {},
   "outputs": [],
   "source": [
    "x[c(6, 2:4)] # we can subset x by indexing multiple entries"
   ]
  },
  {
   "cell_type": "code",
   "execution_count": null,
   "id": "9c8886eb",
   "metadata": {
    "slideshow": {
     "slide_type": "slide"
    }
   },
   "outputs": [],
   "source": [
    "x[-c(4:6)] # remove the third element"
   ]
  },
  {
   "cell_type": "code",
   "execution_count": null,
   "id": "709223ef",
   "metadata": {},
   "outputs": [],
   "source": [
    "x"
   ]
  },
  {
   "cell_type": "code",
   "execution_count": null,
   "id": "c48080e5",
   "metadata": {},
   "outputs": [],
   "source": [
    "which.max(x)"
   ]
  },
  {
   "cell_type": "code",
   "execution_count": null,
   "id": "1e3c72c8",
   "metadata": {},
   "outputs": [],
   "source": [
    "x"
   ]
  },
  {
   "cell_type": "code",
   "execution_count": null,
   "id": "a2b12eff",
   "metadata": {},
   "outputs": [],
   "source": [
    "x[which.max(x)] # check ?which.max\n",
    "max(x, na.rm = T)"
   ]
  },
  {
   "cell_type": "markdown",
   "id": "48a291d4",
   "metadata": {
    "slideshow": {
     "slide_type": "slide"
    }
   },
   "source": [
    "To ease illustration, lets remove the `NA`value in `x`: "
   ]
  },
  {
   "cell_type": "code",
   "execution_count": null,
   "id": "e868f396",
   "metadata": {},
   "outputs": [],
   "source": [
    "x <- na.omit(x)\n",
    "x"
   ]
  },
  {
   "cell_type": "markdown",
   "id": "9d75a1ac",
   "metadata": {
    "slideshow": {
     "slide_type": "slide"
    }
   },
   "source": [
    "As an alternative to indexing, elements in vectors can also be accessed via logical vectors: "
   ]
  },
  {
   "cell_type": "code",
   "execution_count": null,
   "id": "baf98732",
   "metadata": {},
   "outputs": [],
   "source": [
    "x > 3"
   ]
  },
  {
   "cell_type": "code",
   "execution_count": null,
   "id": "77e21317",
   "metadata": {},
   "outputs": [],
   "source": [
    "x[x > 3] # x > 3 returns a logical vector"
   ]
  },
  {
   "cell_type": "code",
   "execution_count": null,
   "id": "f90ac9a8",
   "metadata": {},
   "outputs": [],
   "source": [
    "x[c(F, F, T, T, T, F, F, F)] "
   ]
  },
  {
   "cell_type": "code",
   "execution_count": null,
   "id": "737481bb",
   "metadata": {
    "slideshow": {
     "slide_type": "slide"
    }
   },
   "outputs": [],
   "source": [
    "x>3\n",
    "which(x>3)"
   ]
  },
  {
   "cell_type": "code",
   "execution_count": null,
   "id": "a0afa82b",
   "metadata": {},
   "outputs": [],
   "source": [
    "x[x>3]\n",
    "x[which(x>3)]"
   ]
  },
  {
   "cell_type": "code",
   "execution_count": null,
   "id": "de8b2474",
   "metadata": {},
   "outputs": [],
   "source": [
    "abs(x[x>3] - x[which(x>3)]) > 10^-3 # boolean operations on vectors are element-wise"
   ]
  },
  {
   "cell_type": "code",
   "execution_count": null,
   "id": "9f640649",
   "metadata": {},
   "outputs": [],
   "source": [
    "c(5, pi) %in% x # checks wether the constant pi is in x"
   ]
  },
  {
   "cell_type": "markdown",
   "id": "00ceaf96",
   "metadata": {
    "slideshow": {
     "slide_type": "slide"
    }
   },
   "source": [
    "Accessing the last entry is tricky as there is no `end` analogue. "
   ]
  },
  {
   "cell_type": "code",
   "execution_count": null,
   "id": "7a6fb9fa",
   "metadata": {},
   "outputs": [],
   "source": [
    "x[length(x)]\n",
    "rev(x)[1]\n",
    "tail(x, 7) # check ?tail and ?head"
   ]
  },
  {
   "cell_type": "code",
   "execution_count": null,
   "id": "df9cf28b",
   "metadata": {
    "scrolled": true
   },
   "outputs": [],
   "source": [
    "x[length(x)-1]\n",
    "rev(x)[2]"
   ]
  },
  {
   "cell_type": "markdown",
   "id": "a5fdfe69",
   "metadata": {
    "slideshow": {
     "slide_type": "slide"
    }
   },
   "source": [
    "### Exercise\n",
    "\n",
    "- Use three conceptually different ways to create the vector `c(1, 2, 3, 0, 1, 2, 3, 0)`. Code golf: Use the fewest number of characters to create the vector. I need six. Can you beat that? Next, apply the `log` function on that vector. Use three conceptually different ways to remove all non-positive values. \n",
    "- Compute the value of the Gaussian density with mean $\\mu = 3$ and variance $\\sigma^2 = 2$ at $x = 0.3$ by hand and compare it to the result of the build-in function `dnorm`. Use `?dnorm`for help. "
   ]
  }
 ],
 "metadata": {
  "celltoolbar": "Slideshow",
  "kernelspec": {
   "display_name": "R",
   "language": "R",
   "name": "ir"
  },
  "language_info": {
   "codemirror_mode": "r",
   "file_extension": ".r",
   "mimetype": "text/x-r-source",
   "name": "R",
   "pygments_lexer": "r",
   "version": "4.3.1"
  },
  "rise": {
   "progress": true,
   "scroll": true,
   "theme": "white"
  }
 },
 "nbformat": 4,
 "nbformat_minor": 5
}
