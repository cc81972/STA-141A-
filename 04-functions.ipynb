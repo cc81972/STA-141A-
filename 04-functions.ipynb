{
 "cells": [
  {
   "cell_type": "markdown",
   "id": "ddcbcbd8",
   "metadata": {
    "slideshow": {
     "slide_type": "slide"
    }
   },
   "source": [
    "# STA 141A Fundamentals of Statistical Data Science\n",
    "\n",
    "### Lecture 4, 10/10/23, Functions"
   ]
  },
  {
   "cell_type": "markdown",
   "id": "97d4a460",
   "metadata": {
    "slideshow": {
     "slide_type": "slide"
    }
   },
   "source": [
    "### Announcements\n",
    "\n",
    "- Second homework is published! Deadline this Friday, 11:59 PM"
   ]
  },
  {
   "cell_type": "markdown",
   "id": "994d8cf3",
   "metadata": {
    "slideshow": {
     "slide_type": "slide"
    }
   },
   "source": [
    "### Last week's topics\n",
    "\n",
    "- Vectors, matrices and lists\n",
    "- Control structures"
   ]
  },
  {
   "cell_type": "code",
   "execution_count": null,
   "id": "d307a8c2",
   "metadata": {
    "slideshow": {
     "slide_type": "-"
    }
   },
   "outputs": [],
   "source": []
  },
  {
   "cell_type": "markdown",
   "id": "4bbdcda3",
   "metadata": {
    "slideshow": {
     "slide_type": "slide"
    }
   },
   "source": [
    "### Today's topics\n",
    "\n",
    "- Principles of proper programming\n",
    "- `apply` and derivatives\n",
    "- Functions"
   ]
  },
  {
   "cell_type": "markdown",
   "id": "dd5f9a3a",
   "metadata": {
    "slideshow": {
     "slide_type": "slide"
    }
   },
   "source": [
    "### Adhere to the principles of proper programming!\n",
    "\n",
    "- K.I.S.S. (Keep It Simple, Stupid): Functions should perform one task, and one task only. \n",
    "- Rule of Three (avoid code duplication): Duplication is a bad programming habit because it makes code harder to maintain. \n",
    "- Clarity before Efficiency: Never sacrifice clarity for some perceived efficiency. Donald Knuth: \"Premature optimization is the root of all evil.\"\n",
    "- Naming: Stick to consistency and conventions. "
   ]
  },
  {
   "cell_type": "markdown",
   "id": "338bf3f4",
   "metadata": {
    "slideshow": {
     "slide_type": "slide"
    }
   },
   "source": [
    "#### `apply`, `lapply` and `sapply`\n",
    "\n",
    "Problematically, all loops can be painstakingly slow in R. We can use `Sys.time` to time programs. "
   ]
  },
  {
   "cell_type": "code",
   "execution_count": 1,
   "id": "7109c458",
   "metadata": {},
   "outputs": [
    {
     "data": {
      "text/plain": [
       "[1] \"2023-10-09 22:43:55 PDT\""
      ]
     },
     "metadata": {},
     "output_type": "display_data"
    }
   ],
   "source": [
    "Sys.time()"
   ]
  },
  {
   "cell_type": "code",
   "execution_count": 2,
   "id": "040faffe",
   "metadata": {},
   "outputs": [],
   "source": [
    "M <- matrix(1:(1000000 * 100), nrow = 1000000, ncol = 100)"
   ]
  },
  {
   "cell_type": "code",
   "execution_count": 3,
   "id": "5f1ad80d",
   "metadata": {},
   "outputs": [
    {
     "data": {
      "text/plain": [
       "Time difference of 2.436384 secs"
      ]
     },
     "metadata": {},
     "output_type": "display_data"
    }
   ],
   "source": [
    "t <- Sys.time()\n",
    "s0 <- NULL # initialize\n",
    "for (i in 1:nrow(M)) s0[i] <- mean(M[i,])\n",
    "Sys.time() - t"
   ]
  },
  {
   "cell_type": "code",
   "execution_count": 4,
   "id": "fe56bb88",
   "metadata": {},
   "outputs": [
    {
     "data": {
      "text/html": [
       "1000000"
      ],
      "text/latex": [
       "1000000"
      ],
      "text/markdown": [
       "1000000"
      ],
      "text/plain": [
       "[1] 1000000"
      ]
     },
     "metadata": {},
     "output_type": "display_data"
    }
   ],
   "source": [
    "length(s0)"
   ]
  },
  {
   "cell_type": "markdown",
   "id": "73f488a0",
   "metadata": {
    "slideshow": {
     "slide_type": "slide"
    }
   },
   "source": [
    "In this case, the problem lies in appending the vector `s0` in each iteration. Good code should omit this practice. "
   ]
  },
  {
   "cell_type": "code",
   "execution_count": 5,
   "id": "d1e60d80",
   "metadata": {},
   "outputs": [
    {
     "data": {
      "text/plain": [
       "Time difference of 2.325762 secs"
      ]
     },
     "metadata": {},
     "output_type": "display_data"
    }
   ],
   "source": [
    "t <- Sys.time()\n",
    "s1 <- rep(NA, nrow(M)) # initialize\n",
    "for (i in 1:nrow(M)) s1[i] <- mean(M[i,])\n",
    "Sys.time() - t"
   ]
  },
  {
   "cell_type": "markdown",
   "id": "1e83004b",
   "metadata": {
    "slideshow": {
     "slide_type": "-"
    }
   },
   "source": [
    "Nevertheless, the improvement is mininmal. Vectorizing in R is generally much more efficient. "
   ]
  },
  {
   "cell_type": "code",
   "execution_count": null,
   "id": "a8b6af20",
   "metadata": {
    "slideshow": {
     "slide_type": "slide"
    }
   },
   "outputs": [],
   "source": [
    "t <- Sys.time()\n",
    "s2 <- M %*% rep(1/ncol(M), ncol(M))\n",
    "Sys.time() - t"
   ]
  },
  {
   "cell_type": "markdown",
   "id": "f48b3f80",
   "metadata": {},
   "source": [
    "On top of that, some pre-defined functions are even faster. "
   ]
  },
  {
   "cell_type": "code",
   "execution_count": null,
   "id": "6fbd48a7",
   "metadata": {},
   "outputs": [],
   "source": [
    "t <- Sys.time()\n",
    "s3 <- rowMeans(M)\n",
    "Sys.time() - t"
   ]
  },
  {
   "cell_type": "markdown",
   "id": "66a59253",
   "metadata": {
    "slideshow": {
     "slide_type": "slide"
    }
   },
   "source": [
    "It is occasionally claimed that the function (-family based on) `apply` is faster than loops. This is not true in general [(link to external site)](https://www.r-project.org/doc/Rnews/Rnews_2008-1.pdf#page=46): "
   ]
  },
  {
   "cell_type": "code",
   "execution_count": null,
   "id": "b307773c",
   "metadata": {},
   "outputs": [],
   "source": [
    "t <- Sys.time()\n",
    "s4 <- apply(M, 1, mean)\n",
    "Sys.time() - t"
   ]
  },
  {
   "cell_type": "markdown",
   "id": "3f9a6952",
   "metadata": {
    "slideshow": {
     "slide_type": "-"
    }
   },
   "source": [
    "Instead, `apply` is merely a neat way to access columns or rows in matrices and perform functions on these vectors. It allows code to be comprehensive and understandable. "
   ]
  },
  {
   "cell_type": "markdown",
   "id": "8f5628ec",
   "metadata": {
    "slideshow": {
     "slide_type": "slide"
    }
   },
   "source": [
    "`apply`s sister functions are `lapply`, which iterates over lists, `sapply`, its simplified version, and many more. "
   ]
  },
  {
   "cell_type": "code",
   "execution_count": null,
   "id": "73c28376",
   "metadata": {},
   "outputs": [],
   "source": [
    "lst <- list(group1 = sample(seq(0, 10, 0.1), 10),\n",
    "            group2 = sample(seq(5, 10, 0.1), 10),\n",
    "            group3 = sample(seq(10, 15, 0.1), 10))\n",
    "lst"
   ]
  },
  {
   "cell_type": "code",
   "execution_count": null,
   "id": "7ba32a6a",
   "metadata": {
    "slideshow": {
     "slide_type": "slide"
    }
   },
   "outputs": [],
   "source": [
    "str(lapply(lst, mean))"
   ]
  },
  {
   "cell_type": "code",
   "execution_count": null,
   "id": "09c74c70",
   "metadata": {
    "scrolled": true
   },
   "outputs": [],
   "source": [
    "str(sapply(lst, mean))"
   ]
  },
  {
   "cell_type": "code",
   "execution_count": null,
   "id": "353377a5",
   "metadata": {},
   "outputs": [],
   "source": [
    "str(unlist(lapply(lst, mean)))"
   ]
  },
  {
   "cell_type": "markdown",
   "id": "de132ccc",
   "metadata": {
    "slideshow": {
     "slide_type": "slide"
    }
   },
   "source": [
    "### Functions \n",
    "\n",
    "Functions are modules of code that accomplish a specific task. Functions usually take in some sort of data structure (value, vector, data frame etc.), process it, and return a possibly different data structure. We have used several build-in functions in previous lectures (`mean`, `var`, `rowSums`, ect.). "
   ]
  },
  {
   "cell_type": "markdown",
   "id": "af726c4a",
   "metadata": {
    "slideshow": {
     "slide_type": "slide"
    }
   },
   "source": [
    "A functions consists of several components: \n",
    "- Name: Calls the function and is stored in the environment\n",
    "- Arguments: A placeholder; when a function is invoked, you pass a value to the argument (with `=`, not `<-`!). Arguments may be optional and can have default values. Argument values  can be provided without stating the placeholder (e.g. `mean(1:10)` instead of `mean(x = 1:10)`). Make sure that the order of provided arguments is correct if there are several. Arguments can be abbreviated, if this not ambiguous:"
   ]
  },
  {
   "cell_type": "code",
   "execution_count": null,
   "id": "cec8cd00",
   "metadata": {
    "slideshow": {
     "slide_type": "-"
    }
   },
   "outputs": [],
   "source": [
    "rnorm(n=4, m=2) # m = mean"
   ]
  },
  {
   "cell_type": "markdown",
   "id": "dfb6907c",
   "metadata": {
    "slideshow": {
     "slide_type": "-"
    }
   },
   "source": [
    "- Body: A chunk of code that perfoms calculations based on the input arguments or environment.  \n",
    "- Return Value: The function returns the value provided within the `return` command. If `return` is not provided, the last expression in the function body to be evaluated is returned. "
   ]
  },
  {
   "cell_type": "code",
   "execution_count": null,
   "id": "1c60cec8",
   "metadata": {
    "slideshow": {
     "slide_type": "subslide"
    }
   },
   "outputs": [],
   "source": [
    "sd"
   ]
  },
  {
   "cell_type": "markdown",
   "id": "314b87bf",
   "metadata": {
    "slideshow": {
     "slide_type": "slide"
    }
   },
   "source": [
    "Variables defined within but not returned by functions are not stored in the environment. E.g., the variable `na.rm` has a default value of `na.rm = FALSE` in the function `mean`, but the following throws an error nevertheless: "
   ]
  },
  {
   "cell_type": "code",
   "execution_count": null,
   "id": "70b746fe",
   "metadata": {},
   "outputs": [],
   "source": [
    "mean(1:3)\n",
    "na.rm # only defined within function environment, not working environment!"
   ]
  },
  {
   "cell_type": "markdown",
   "id": "d9ddc968",
   "metadata": {
    "slideshow": {
     "slide_type": "fragment"
    }
   },
   "source": [
    "Similarly, just as in `for` loops, the automatic printing of variables is disabled within functions. If you want a value printed (e.g., for debugging), use `print`. "
   ]
  },
  {
   "cell_type": "markdown",
   "id": "0ab891e7",
   "metadata": {
    "slideshow": {
     "slide_type": "slide"
    }
   },
   "source": [
    "#### Accessing Functions \n",
    "\n",
    "The `?` command opens the help page, which displays name, arguments and return value as well as examples. "
   ]
  },
  {
   "cell_type": "code",
   "execution_count": null,
   "id": "b62f3bd2",
   "metadata": {},
   "outputs": [],
   "source": [
    " ?sd"
   ]
  },
  {
   "cell_type": "markdown",
   "id": "8c4ceaad",
   "metadata": {},
   "source": [
    "Just calling the function without brackets prints the function body. "
   ]
  },
  {
   "cell_type": "code",
   "execution_count": null,
   "id": "abee8966",
   "metadata": {},
   "outputs": [],
   "source": [
    "sd"
   ]
  },
  {
   "cell_type": "markdown",
   "id": "a1b60483",
   "metadata": {
    "slideshow": {
     "slide_type": "slide"
    }
   },
   "source": [
    "### Own functions\n",
    "\n",
    "Using own functions is useful in organizing your code. You can give evocative names to operations to make your code easier to understand. You can write comprehensive code by avoiding repetitions by writing a function  instead of copying and pasting the same code over and over. Finally, you eliminate the chance of making incidental mistakes when you copy and paste (i.e. updating a variable name in one place, but not in another). \n",
    "\n",
    "The syntax is given as follows: "
   ]
  },
  {
   "cell_type": "code",
   "execution_count": null,
   "id": "7f46feaa",
   "metadata": {
    "slideshow": {
     "slide_type": "slide"
    }
   },
   "outputs": [],
   "source": [
    "my_sum <- function(arg1, arg2 = 2) { \n",
    "    if(length(arg1) > 1) return( mean(arg1 + arg2, na.rm = T)) # body\n",
    "    else return(arg1 + arg2) \n",
    "}"
   ]
  },
  {
   "cell_type": "code",
   "execution_count": null,
   "id": "894fe0ce",
   "metadata": {},
   "outputs": [],
   "source": [
    "my_sum(arg1 = c(1:5, NA), arg2 = 2)"
   ]
  },
  {
   "cell_type": "markdown",
   "id": "6c4e99a3",
   "metadata": {
    "slideshow": {
     "slide_type": "-"
    }
   },
   "source": [
    "It is good practice to give a name that describes what the function does. Be careful to avoid naming collisions with already existing objects. The same applies for the function arguments. In that vein, a function should only perform one action. "
   ]
  },
  {
   "cell_type": "markdown",
   "id": "acd07603",
   "metadata": {
    "slideshow": {
     "slide_type": "slide"
    }
   },
   "source": [
    "#### Examples\n",
    "\n",
    "Lets consider some examples. The following function `gm` returns the geometric mean of a provided vector. "
   ]
  },
  {
   "cell_type": "code",
   "execution_count": null,
   "id": "3c706f34",
   "metadata": {},
   "outputs": [],
   "source": [
    "gm <- function(x) {\n",
    "  m <- prod(x)^(1/length(x))\n",
    "  return(m)\n",
    "}"
   ]
  },
  {
   "cell_type": "code",
   "execution_count": null,
   "id": "07c7842c",
   "metadata": {},
   "outputs": [],
   "source": [
    "gm(x = c(2,4,8))"
   ]
  },
  {
   "cell_type": "code",
   "execution_count": null,
   "id": "200082c3",
   "metadata": {},
   "outputs": [],
   "source": [
    "gm(matrix(1:10, ncol = 2, nrow =5))"
   ]
  },
  {
   "cell_type": "code",
   "execution_count": null,
   "id": "dc1c038f",
   "metadata": {},
   "outputs": [],
   "source": [
    "gm(c('cat', 'dog'))"
   ]
  },
  {
   "cell_type": "markdown",
   "id": "f45324e9",
   "metadata": {
    "slideshow": {
     "slide_type": "slide"
    }
   },
   "source": [
    "The following functions prints whether the provided value is even or odd. "
   ]
  },
  {
   "cell_type": "code",
   "execution_count": null,
   "id": "4e1b4ee5",
   "metadata": {},
   "outputs": [],
   "source": [
    "even_odd <- function(x) {\n",
    "  if (x %% 2==0) return(paste(x, ' is even'))\n",
    "  else return(paste(x, ' is odd'))\n",
    "}"
   ]
  },
  {
   "cell_type": "code",
   "execution_count": null,
   "id": "012cdfeb",
   "metadata": {},
   "outputs": [],
   "source": [
    "even_odd(5)"
   ]
  },
  {
   "cell_type": "code",
   "execution_count": null,
   "id": "a0720e6e",
   "metadata": {},
   "outputs": [],
   "source": [
    "even_odd(2.1)"
   ]
  },
  {
   "cell_type": "code",
   "execution_count": null,
   "id": "e2ae8cd6",
   "metadata": {},
   "outputs": [],
   "source": [
    "even_odd(1:4)"
   ]
  },
  {
   "cell_type": "markdown",
   "id": "da8c8250",
   "metadata": {
    "slideshow": {
     "slide_type": "slide"
    }
   },
   "source": [
    "We vectorize a function with the `Vectorize` command. "
   ]
  },
  {
   "cell_type": "code",
   "execution_count": null,
   "id": "723f4d41",
   "metadata": {},
   "outputs": [],
   "source": [
    "even_odd <- Vectorize(even_odd)"
   ]
  },
  {
   "cell_type": "code",
   "execution_count": null,
   "id": "c12072a2",
   "metadata": {},
   "outputs": [],
   "source": [
    "even_odd(matrix(1:4, 2,2))"
   ]
  },
  {
   "cell_type": "code",
   "execution_count": null,
   "id": "bb15784c",
   "metadata": {
    "slideshow": {
     "slide_type": "slide"
    }
   },
   "outputs": [],
   "source": [
    "f <- function(x, y) rnorm(x) / sum(y)\n",
    "f(3, 1:4)"
   ]
  },
  {
   "cell_type": "markdown",
   "id": "fae796c8",
   "metadata": {},
   "source": [
    "The code below does not behave as expected, because only the length of the `n` argument of `rnorm` is used. "
   ]
  },
  {
   "cell_type": "code",
   "execution_count": null,
   "id": "2633a715",
   "metadata": {},
   "outputs": [],
   "source": [
    "f(1:3, 1:4) # element-wise for x, vectorized for y"
   ]
  },
  {
   "cell_type": "code",
   "execution_count": null,
   "id": "31f9f8be",
   "metadata": {},
   "outputs": [],
   "source": [
    "rnorm(n=1:3) # same as rnorm(n=(1:3)^1000)"
   ]
  },
  {
   "cell_type": "code",
   "execution_count": null,
   "id": "5b04d0b5",
   "metadata": {
    "slideshow": {
     "slide_type": "slide"
    }
   },
   "outputs": [],
   "source": [
    "g <- Vectorize(f)\n",
    "g(3, 1:4)"
   ]
  },
  {
   "cell_type": "code",
   "execution_count": null,
   "id": "2474483b",
   "metadata": {
    "scrolled": true
   },
   "outputs": [],
   "source": [
    "h <- Vectorize(f, vectorize.args = 'x')\n",
    "h(3, 1:4)"
   ]
  },
  {
   "cell_type": "code",
   "execution_count": null,
   "id": "76e6b328",
   "metadata": {
    "scrolled": true
   },
   "outputs": [],
   "source": [
    "h(1:3, 1:4)"
   ]
  },
  {
   "cell_type": "markdown",
   "id": "f3ddb910",
   "metadata": {
    "slideshow": {
     "slide_type": "slide"
    }
   },
   "source": [
    "If the return statement is omitted, the last evalated operation is automatically returned. "
   ]
  },
  {
   "cell_type": "code",
   "execution_count": 1,
   "id": "0b7e0f32",
   "metadata": {},
   "outputs": [
    {
     "data": {
      "text/html": [
       "25"
      ],
      "text/latex": [
       "25"
      ],
      "text/markdown": [
       "25"
      ],
      "text/plain": [
       "[1] 25"
      ]
     },
     "metadata": {},
     "output_type": "display_data"
    },
    {
     "ename": "ERROR",
     "evalue": "Error in eval(expr, envir, enclos): object 'y' not found\n",
     "output_type": "error",
     "traceback": [
      "Error in eval(expr, envir, enclos): object 'y' not found\nTraceback:\n"
     ]
    }
   ],
   "source": [
    "myfun <- function(x) {\n",
    "    y <- x + 2\n",
    "    y^2\n",
    "}\n",
    "myfun(3)\n",
    "y"
   ]
  },
  {
   "cell_type": "markdown",
   "id": "dd0e28e3",
   "metadata": {
    "slideshow": {
     "slide_type": "slide"
    }
   },
   "source": [
    "Every time a function is invoked a new evaluation frame is created, thus any  ordinary  assignments  done  within  the  function  are  local and  temporary  and  are lost  after  exit  from  the  function. Thus the assignment withing the function does not affect the value of the argument in the calling program. If  global  and  permanent  assignments  are  intended  within  a  function,  then  the  \n",
    "*superassignment operator* `<<-` can be used.  "
   ]
  },
  {
   "cell_type": "code",
   "execution_count": 2,
   "id": "df8fc946",
   "metadata": {},
   "outputs": [],
   "source": [
    "rm(list = ls()) #remove all variables"
   ]
  },
  {
   "cell_type": "code",
   "execution_count": 3,
   "id": "d333e46c",
   "metadata": {},
   "outputs": [
    {
     "data": {
      "text/html": [
       "2.5"
      ],
      "text/latex": [
       "2.5"
      ],
      "text/markdown": [
       "2.5"
      ],
      "text/plain": [
       "[1] 2.5"
      ]
     },
     "metadata": {},
     "output_type": "display_data"
    },
    {
     "data": {
      "text/html": [
       "5"
      ],
      "text/latex": [
       "5"
      ],
      "text/markdown": [
       "5"
      ],
      "text/plain": [
       "[1] 5"
      ]
     },
     "metadata": {},
     "output_type": "display_data"
    }
   ],
   "source": [
    "myfun <- function(x) {\n",
    "    y <<- x + 2\n",
    "    y <- y / 2\n",
    "    return(list(y, y^2))\n",
    "}\n",
    "res <- myfun(3)\n",
    "res[[1]]\n",
    "y"
   ]
  },
  {
   "cell_type": "markdown",
   "id": "c19727c6",
   "metadata": {
    "slideshow": {
     "slide_type": "slide"
    }
   },
   "source": [
    "Now, that `y` has been created in our environment, we can call it in a function, even though it is not provided as argument. "
   ]
  },
  {
   "cell_type": "code",
   "execution_count": 4,
   "id": "bce8f029",
   "metadata": {
    "slideshow": {
     "slide_type": "-"
    }
   },
   "outputs": [
    {
     "data": {
      "text/html": [
       "64"
      ],
      "text/latex": [
       "64"
      ],
      "text/markdown": [
       "64"
      ],
      "text/plain": [
       "[1] 64"
      ]
     },
     "metadata": {},
     "output_type": "display_data"
    }
   ],
   "source": [
    "myfun <- function(x) {\n",
    "    (y + x)^2\n",
    "}\n",
    "myfun(3)"
   ]
  },
  {
   "cell_type": "markdown",
   "id": "056495f5",
   "metadata": {},
   "source": [
    "This is bad practice, because it decreases the readability of our code. "
   ]
  },
  {
   "cell_type": "markdown",
   "id": "6e26b8c9",
   "metadata": {
    "slideshow": {
     "slide_type": "slide"
    }
   },
   "source": [
    "We can provide and return more than only one object. "
   ]
  },
  {
   "cell_type": "code",
   "execution_count": 5,
   "id": "1cfbdcb6",
   "metadata": {},
   "outputs": [
    {
     "data": {
      "text/html": [
       "<dl>\n",
       "\t<dt>$z</dt>\n",
       "\t\t<dd>4</dd>\n",
       "\t<dt>[[2]]</dt>\n",
       "\t\t<dd>'this is the squared difference'</dd>\n",
       "</dl>\n"
      ],
      "text/latex": [
       "\\begin{description}\n",
       "\\item[\\$z] 4\n",
       "\\item[{[[2]]}] 'this is the squared difference'\n",
       "\\end{description}\n"
      ],
      "text/markdown": [
       "$z\n",
       ":   4\n",
       "[[2]]\n",
       ":   'this is the squared difference'\n",
       "\n",
       "\n"
      ],
      "text/plain": [
       "$z\n",
       "[1] 4\n",
       "\n",
       "[[2]]\n",
       "[1] \"this is the squared difference\"\n"
      ]
     },
     "metadata": {},
     "output_type": "display_data"
    }
   ],
   "source": [
    "myfun <- function(x, y) {\n",
    "    return(list(z = (y - x)^2, \"this is the squared difference\"))\n",
    "}\n",
    "myfun(y = 1, x = 3)"
   ]
  },
  {
   "cell_type": "markdown",
   "id": "a42a0a42",
   "metadata": {},
   "source": [
    "We can also provide default values. "
   ]
  },
  {
   "cell_type": "code",
   "execution_count": 6,
   "id": "11d13c14",
   "metadata": {},
   "outputs": [
    {
     "data": {
      "text/html": [
       "49"
      ],
      "text/latex": [
       "49"
      ],
      "text/markdown": [
       "49"
      ],
      "text/plain": [
       "[1] 49"
      ]
     },
     "metadata": {},
     "output_type": "display_data"
    }
   ],
   "source": [
    "myfun <- function(x = 2) {\n",
    "    (y + x)^2\n",
    "}\n",
    "myfun()"
   ]
  },
  {
   "cell_type": "markdown",
   "id": "0e7274c0",
   "metadata": {
    "slideshow": {
     "slide_type": "slide"
    }
   },
   "source": [
    "It is also bad practice to overwrite standard functions with your own ones. "
   ]
  },
  {
   "cell_type": "code",
   "execution_count": 7,
   "id": "f0b34ae9",
   "metadata": {},
   "outputs": [
    {
     "data": {
      "text/html": [
       "49"
      ],
      "text/latex": [
       "49"
      ],
      "text/markdown": [
       "49"
      ],
      "text/plain": [
       "[1] 49"
      ]
     },
     "metadata": {},
     "output_type": "display_data"
    }
   ],
   "source": [
    "sum <- function(x = 2) {\n",
    "    (y + x)^2\n",
    "}\n",
    "sum()"
   ]
  },
  {
   "cell_type": "code",
   "execution_count": 8,
   "id": "75a9ef48",
   "metadata": {},
   "outputs": [
    {
     "data": {
      "text/html": [
       "10"
      ],
      "text/latex": [
       "10"
      ],
      "text/markdown": [
       "10"
      ],
      "text/plain": [
       "[1] 10"
      ]
     },
     "metadata": {},
     "output_type": "display_data"
    }
   ],
   "source": [
    "base::sum(1:4)"
   ]
  },
  {
   "cell_type": "markdown",
   "id": "160a271e",
   "metadata": {
    "slideshow": {
     "slide_type": "slide"
    }
   },
   "source": [
    "The `break` analogue for functions is `stop`. It will throw an error with the specified message.  "
   ]
  },
  {
   "cell_type": "code",
   "execution_count": 9,
   "id": "78e3d0d2",
   "metadata": {},
   "outputs": [
    {
     "ename": "ERROR",
     "evalue": "Error in myfun(0): just square y!\n",
     "output_type": "error",
     "traceback": [
      "Error in myfun(0): just square y!\nTraceback:\n",
      "1. myfun(0)",
      "2. stop(\"just square y!\")   # at line 2 of file <text>"
     ]
    }
   ],
   "source": [
    "myfun <- function(x = 2) {\n",
    "    if (x == 0) stop('just square y!')\n",
    "    (y + x)^2\n",
    "}\n",
    "myfun(0)"
   ]
  },
  {
   "cell_type": "markdown",
   "id": "7307796c",
   "metadata": {
    "slideshow": {
     "slide_type": "slide"
    }
   },
   "source": [
    "A more advanced argument type can be provided as character, and call a function (which might not be available in your current environment. This is performed via `switch`. "
   ]
  },
  {
   "cell_type": "code",
   "execution_count": 6,
   "id": "c4910bed",
   "metadata": {
    "slideshow": {
     "slide_type": "subslide"
    }
   },
   "outputs": [],
   "source": [
    "center <- function(x, type) {\n",
    "  switch(type,\n",
    "         mean = mean(x),\n",
    "         median = median(x),\n",
    "         stop(\"Unknown center!\"))\n",
    "}"
   ]
  },
  {
   "cell_type": "code",
   "execution_count": 7,
   "id": "be8fbfad",
   "metadata": {},
   "outputs": [
    {
     "data": {
      "text/html": [
       "4"
      ],
      "text/latex": [
       "4"
      ],
      "text/markdown": [
       "4"
      ],
      "text/plain": [
       "[1] 4"
      ]
     },
     "metadata": {},
     "output_type": "display_data"
    }
   ],
   "source": [
    "center(x=c(1,2,3,10), type=\"mean\")"
   ]
  },
  {
   "cell_type": "code",
   "execution_count": 8,
   "id": "4a44bef0",
   "metadata": {},
   "outputs": [
    {
     "data": {
      "text/html": [
       "2.5"
      ],
      "text/latex": [
       "2.5"
      ],
      "text/markdown": [
       "2.5"
      ],
      "text/plain": [
       "[1] 2.5"
      ]
     },
     "metadata": {},
     "output_type": "display_data"
    }
   ],
   "source": [
    "center(x=c(1,2,3,10), type=\"median\")"
   ]
  },
  {
   "cell_type": "code",
   "execution_count": 9,
   "id": "cee6cdd1",
   "metadata": {},
   "outputs": [
    {
     "ename": "ERROR",
     "evalue": "Error in center(x = c(1, 2, 3, 10), type = \"var\"): Unknown center!\n",
     "output_type": "error",
     "traceback": [
      "Error in center(x = c(1, 2, 3, 10), type = \"var\"): Unknown center!\nTraceback:\n",
      "1. center(x = c(1, 2, 3, 10), type = \"var\")",
      "2. stop(\"Unknown center!\")   # at line 2-5 of file <text>"
     ]
    }
   ],
   "source": [
    "center(x=c(1,2,3,10), type=\"var\")"
   ]
  },
  {
   "cell_type": "markdown",
   "id": "54510fe2",
   "metadata": {
    "scrolled": true,
    "slideshow": {
     "slide_type": "slide"
    }
   },
   "source": [
    "### Debugging\n",
    "\n",
    "The following bits are an excerpt from [Advanced R](https://adv-r.hadley.nz/debugging.html) by Hadley Wickham. \n",
    "\n",
    "If your code unexpectedly throws an error, you have to challenge the assumptions based on which you wrote the code. Maybe an argument is an unsuiting object type? Maybe its dimensions are off? Maybe you do not update a quantity you are interested in. \n",
    "\n",
    "The first thing to do is to use google. Many issues have been solved, e.g., on [stackoverflow.com](https://stackoverflow.com/questions/tagged/r)."
   ]
  },
  {
   "cell_type": "markdown",
   "id": "8810d18e",
   "metadata": {
    "scrolled": true,
    "slideshow": {
     "slide_type": "slide"
    }
   },
   "source": [
    "We can customize errors and error messages using `stop`. This breaks the code evaluation. "
   ]
  },
  {
   "cell_type": "code",
   "execution_count": 10,
   "id": "3b14f9c3",
   "metadata": {
    "slideshow": {
     "slide_type": "-"
    }
   },
   "outputs": [
    {
     "ename": "ERROR",
     "evalue": "Error in eval(expr, envir, enclos): iter is too large\n",
     "output_type": "error",
     "traceback": [
      "Error in eval(expr, envir, enclos): iter is too large\nTraceback:\n",
      "1. stop(\"iter is too large\")"
     ]
    }
   ],
   "source": [
    "iter <- 20\n",
    "if(iter > 10) stop(\"iter is too large\")\n",
    "'test'"
   ]
  },
  {
   "cell_type": "markdown",
   "id": "41e9c754",
   "metadata": {
    "scrolled": true,
    "slideshow": {
     "slide_type": "-"
    }
   },
   "source": [
    "Encapsulating `stop` within `try` evaluates the whole function even though an error was thrown. "
   ]
  },
  {
   "cell_type": "code",
   "execution_count": 11,
   "id": "bc3d79d6",
   "metadata": {
    "slideshow": {
     "slide_type": "-"
    }
   },
   "outputs": [
    {
     "name": "stdout",
     "output_type": "stream",
     "text": [
      "Error in try(if (iter > 10) stop(\"iter is too large\")) : \n",
      "  iter is too large\n"
     ]
    },
    {
     "data": {
      "text/html": [
       "'test'"
      ],
      "text/latex": [
       "'test'"
      ],
      "text/markdown": [
       "'test'"
      ],
      "text/plain": [
       "[1] \"test\""
      ]
     },
     "metadata": {},
     "output_type": "display_data"
    }
   ],
   "source": [
    "try(if(iter > 10) stop(\"iter is too large\"))\n",
    "'test'"
   ]
  },
  {
   "cell_type": "markdown",
   "id": "cbf961e4",
   "metadata": {
    "scrolled": true,
    "slideshow": {
     "slide_type": "slide"
    }
   },
   "source": [
    "Usually, an error occurs somewhere deep within the code. Its difficult to re-create, because you do not have access to the function environment. "
   ]
  },
  {
   "cell_type": "code",
   "execution_count": 12,
   "id": "f415e9e9",
   "metadata": {
    "slideshow": {
     "slide_type": "-"
    }
   },
   "outputs": [],
   "source": [
    "f <- function(a) g(a)\n",
    "g <- function(b) h(b)\n",
    "h <- function(c) i(c)\n",
    "i <- function(d) {\n",
    "  if (!is.numeric(d)) stop(\"`d` must be numeric\", call. = FALSE)\n",
    "  d + 10\n",
    "}"
   ]
  },
  {
   "cell_type": "code",
   "execution_count": 13,
   "id": "cc5db93b",
   "metadata": {
    "slideshow": {
     "slide_type": "-"
    }
   },
   "outputs": [
    {
     "data": {
      "text/html": [
       "11"
      ],
      "text/latex": [
       "11"
      ],
      "text/markdown": [
       "11"
      ],
      "text/plain": [
       "[1] 11"
      ]
     },
     "metadata": {},
     "output_type": "display_data"
    }
   ],
   "source": [
    "f(1)"
   ]
  },
  {
   "cell_type": "code",
   "execution_count": 14,
   "id": "83e7458d",
   "metadata": {
    "slideshow": {
     "slide_type": "-"
    }
   },
   "outputs": [
    {
     "ename": "ERROR",
     "evalue": "Error: `d` must be numeric\n",
     "output_type": "error",
     "traceback": [
      "Error: `d` must be numeric\nTraceback:\n",
      "1. f(\"1\")",
      "2. g(a)   # at line 1 of file <text>",
      "3. h(b)   # at line 2 of file <text>",
      "4. i(c)   # at line 3 of file <text>",
      "5. stop(\"`d` must be numeric\", call. = FALSE)   # at line 5 of file <text>"
     ]
    }
   ],
   "source": [
    "f('1')"
   ]
  },
  {
   "cell_type": "markdown",
   "id": "c41bec0d",
   "metadata": {
    "scrolled": true,
    "slideshow": {
     "slide_type": "slide"
    }
   },
   "source": [
    "In R Studio, we can investigate the function environment using the `Rerun with Debug` functionality, which shows in the console. Equivalently, you may use `browser()`, after you have investigated the traceback. "
   ]
  },
  {
   "cell_type": "code",
   "execution_count": 15,
   "id": "8c17c60c",
   "metadata": {
    "slideshow": {
     "slide_type": "-"
    }
   },
   "outputs": [
    {
     "name": "stdout",
     "output_type": "stream",
     "text": [
      "Called from: i(c)\n",
      "debug at <text>#3: if (!is.numeric(d)) stop(\"`d` must be numeric\", call. = FALSE)\n",
      "debug at <text>#3: stop(\"`d` must be numeric\", call. = FALSE)\n"
     ]
    },
    {
     "ename": "ERROR",
     "evalue": "Error: `d` must be numeric\n",
     "output_type": "error",
     "traceback": [
      "Error: `d` must be numeric\nTraceback:\n",
      "1. f(\"1\")",
      "2. g(a)   # at line 1 of file <text>",
      "3. h(b)   # at line 2 of file <text>",
      "4. i(c)   # at line 3 of file <text>",
      "5. stop(\"`d` must be numeric\", call. = FALSE)   # at line 3 of file <text>"
     ]
    }
   ],
   "source": [
    "i <- function(d) {\n",
    "  browser()\n",
    "  if (!is.numeric(d)) stop(\"`d` must be numeric\", call. = FALSE)\n",
    "  d + 10\n",
    "}\n",
    "f('1')"
   ]
  },
  {
   "cell_type": "markdown",
   "id": "a827d148",
   "metadata": {
    "scrolled": true,
    "slideshow": {
     "slide_type": "-"
    }
   },
   "source": [
    "`browser()` pauses the code at the respective location and lets the user inspect all variables (e.g., `d`), which are in the function environment, but not in the global environment. I cannot reproduce this procedure, because Jupyter notebook does not have this functionality implemented. "
   ]
  },
  {
   "cell_type": "markdown",
   "id": "9eeceafc",
   "metadata": {
    "scrolled": true,
    "slideshow": {
     "slide_type": "slide"
    }
   },
   "source": [
    "If you want to ask a question, you need to make sure that your error is repeatable. To this end, write a minimal working example (MWE) that shows the error. This code can then be shared (e.g., on Piazza). "
   ]
  },
  {
   "cell_type": "markdown",
   "id": "b0f82e6a",
   "metadata": {
    "slideshow": {
     "slide_type": "slide"
    }
   },
   "source": [
    "### Exercise \n",
    "\n",
    "- Given a vector, write a for loop that returns a new vector `x_new` containing value `'top 50%'` if the value larger than the median and the original value in `x` otherwise. What type of vector is created? Then, write a function with the same use that uses `ifelse` instead and compare the performances between the two procedures.\n",
    "\n",
    "- Write a function that computes the cumulative sum of a vector. The cumulative sum of $x = (x_1, x_2, \\dots, x_n)^t\\in\\mathbb{R}^n$, $n\\in\\mathbb{N}$, is given by $(®x_1, x_1 + x_2, \\dots, \\sum_{i=1}^n x_i)^t\\in\\mathbb{R}^n$. \n",
    "Can you beat the build-in function `cumsum` and the vector `seq(0, 1, l = 1000000)`?"
   ]
  }
 ],
 "metadata": {
  "celltoolbar": "Slideshow",
  "kernelspec": {
   "display_name": "R",
   "language": "R",
   "name": "ir"
  },
  "language_info": {
   "codemirror_mode": "r",
   "file_extension": ".r",
   "mimetype": "text/x-r-source",
   "name": "R",
   "pygments_lexer": "r",
   "version": "4.3.1"
  },
  "rise": {
   "progress": true,
   "scroll": true,
   "theme": "white"
  }
 },
 "nbformat": 4,
 "nbformat_minor": 5
}
